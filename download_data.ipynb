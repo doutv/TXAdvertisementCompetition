{
 "cells": [
  {
   "cell_type": "code",
   "execution_count": 4,
   "metadata": {},
   "outputs": [],
   "source": [
    "import wget, tarfile\n",
    "import zipfile"
   ]
  },
  {
   "cell_type": "code",
   "execution_count": 6,
   "metadata": {},
   "outputs": [
    {
     "name": "stdout",
     "output_type": "stream",
     "text": [
      "test (1).zip\n",
      "test/\n",
      "test/ad.csv\n",
      "test/click_log.csv\n",
      "test/README\n"
     ]
    }
   ],
   "source": [
    "filename = wget.download(\"https://tesla-ap-shanghai-1256322946.cos.ap-shanghai.myqcloud.com/cephfs/tesla_common/deeplearning/dataset/algo_contest/test.zip\")\n",
    "print(filename)\n",
    "zFile = zipfile.ZipFile(filename, \"r\")\n",
    "for fileM in zFile.namelist(): \n",
    "    zFile.extract(fileM, \"./\")\n",
    "    print(fileM)\n",
    "zFile.close();"
   ]
  },
  {
   "cell_type": "code",
   "execution_count": 7,
   "metadata": {},
   "outputs": [
    {
     "name": "stdout",
     "output_type": "stream",
     "text": [
      "train_preliminary.zip\n",
      "train_preliminary/\n",
      "train_preliminary/ad.csv\n",
      "train_preliminary/click_log.csv\n",
      "train_preliminary/user.csv\n",
      "train_preliminary/README\n"
     ]
    }
   ],
   "source": [
    "filename = wget.download(\"https://tesla-ap-shanghai-1256322946.cos.ap-shanghai.myqcloud.com/cephfs/tesla_common/deeplearning/dataset/algo_contest/train_preliminary.zip\")\n",
    "print(filename)\n",
    "zFile = zipfile.ZipFile(filename, \"r\")\n",
    "for fileM in zFile.namelist(): \n",
    "    zFile.extract(fileM, \"./\")\n",
    "    print(fileM)\n",
    "zFile.close();"
   ]
  },
  {
   "cell_type": "code",
   "execution_count": null,
   "metadata": {},
   "outputs": [],
   "source": []
  }
 ],
 "metadata": {
  "kernelspec": {
   "display_name": "conda_tensorflow2_py3",
   "language": "python",
   "name": "conda_tensorflow2_py3"
  },
  "language_info": {
   "codemirror_mode": {
    "name": "ipython",
    "version": 3
   },
   "file_extension": ".py",
   "mimetype": "text/x-python",
   "name": "python",
   "nbconvert_exporter": "python",
   "pygments_lexer": "ipython3",
   "version": "3.6.5"
  }
 },
 "nbformat": 4,
 "nbformat_minor": 4
}
