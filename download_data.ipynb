{
 "cells": [
  {
   "cell_type": "code",
   "execution_count": 4,
   "metadata": {},
   "outputs": [
    {
     "name": "stdout",
     "output_type": "stream",
     "text": [
      "Looking in indexes: http://mirrors.tencentyun.com/pypi/simple\n",
      "Collecting wget\n",
      "  Downloading http://mirrors.tencentyun.com/pypi/packages/47/6a/62e288da7bcda82b935ff0c6cfe542970f04e29c756b0e147251b2fb251f/wget-3.2.zip (10 kB)\n",
      "Building wheels for collected packages: wget\n",
      "  Building wheel for wget (setup.py) ... \u001b[?25ldone\n",
      "\u001b[?25h  Created wheel for wget: filename=wget-3.2-py3-none-any.whl size=9681 sha256=0331093ccb9c00b03b7d4295e5264016f92c97dee465de49a33420a690c576da\n",
      "  Stored in directory: /home/tione/.cache/pip/wheels/c5/7d/57/a14ab81e83a58c3ccf630b021656bf453e6182666d5235f035\n",
      "Successfully built wget\n",
      "Installing collected packages: wget\n",
      "Successfully installed wget-3.2\n"
     ]
    }
   ],
   "source": [
    "!pip install wget\n",
    "import wget, tarfile\n",
    "import zipfile"
   ]
  },
  {
   "cell_type": "code",
   "execution_count": 4,
   "metadata": {},
   "outputs": [
    {
     "name": "stdout",
     "output_type": "stream",
     "text": [
      "test.zip\n",
      "test/\n",
      "test/ad.csv\n",
      "test/click_log.csv\n",
      "test/README\n"
     ]
    }
   ],
   "source": [
    "filename = wget.download(\"https://tesla-ap-shanghai-1256322946.cos.ap-shanghai.myqcloud.com/cephfs/tesla_common/deeplearning/dataset/algo_contest/test.zip\")\n",
    "print(filename)\n",
    "zFile = zipfile.ZipFile(filename, \"r\")\n",
    "for fileM in zFile.namelist(): \n",
    "    zFile.extract(fileM, \"./\")\n",
    "    print(fileM)\n",
    "zFile.close();"
   ]
  },
  {
   "cell_type": "code",
   "execution_count": 5,
   "metadata": {},
   "outputs": [
    {
     "name": "stdout",
     "output_type": "stream",
     "text": [
      "train_preliminary.zip\n",
      "train_preliminary/\n",
      "train_preliminary/ad.csv\n",
      "train_preliminary/click_log.csv\n",
      "train_preliminary/user.csv\n",
      "train_preliminary/README\n"
     ]
    }
   ],
   "source": [
    "filename = wget.download(\"https://tesla-ap-shanghai-1256322946.cos.ap-shanghai.myqcloud.com/cephfs/tesla_common/deeplearning/dataset/algo_contest/train_preliminary.zip\")\n",
    "print(filename)\n",
    "zFile = zipfile.ZipFile(filename, \"r\")\n",
    "for fileM in zFile.namelist(): \n",
    "    zFile.extract(fileM, \"./\")\n",
    "    print(fileM)\n",
    "zFile.close();"
   ]
  },
  {
   "cell_type": "code",
   "execution_count": 2,
   "metadata": {},
   "outputs": [],
   "source": [
    "filename = wget.download(\"https://data-1302065309.cos.ap-shanghai.myqcloud.com/train_data_raw.txt\",\n",
    "                        out='./version/train_data_raw.txt')"
   ]
  },
  {
   "cell_type": "code",
   "execution_count": 3,
   "metadata": {},
   "outputs": [
    {
     "data": {
      "text/plain": [
       "'./version/predict_merged.csv'"
      ]
     },
     "execution_count": 3,
     "metadata": {},
     "output_type": "execute_result"
    }
   ],
   "source": [
    "wget.download(\"https://data-1302065309.cos.ap-shanghai.myqcloud.com/predict_merged.csv\",\n",
    "             out='./version/predict_merged.csv')"
   ]
  },
  {
   "cell_type": "code",
   "execution_count": 2,
   "metadata": {},
   "outputs": [],
   "source": [
    "def download(filenames):\n",
    "    for name in filenames:\n",
    "        print('getting file', name)\n",
    "        filename = wget.download(\"https://data-1302065309.cos.ap-shanghai.myqcloud.com/%s\"%name,\n",
    "                     out='./version/%s'%name)\n",
    "        print(filename, 'got.')"
   ]
  },
  {
   "cell_type": "code",
   "execution_count": 5,
   "metadata": {},
   "outputs": [
    {
     "name": "stdout",
     "output_type": "stream",
     "text": [
      "getting file train_attr.npz\n",
      "./version/train_attr.npz got.\n",
      "getting file predict_attr.npz\n",
      "./version/predict_attr.npz got.\n",
      "getting file submission.csv\n",
      "./version/submission (1).csv got.\n"
     ]
    }
   ],
   "source": [
    "names = ['train_attr.npz', 'predict_attr.npz', 'submission.csv']\n",
    "download(names)"
   ]
  },
  {
   "cell_type": "code",
   "execution_count": 6,
   "metadata": {},
   "outputs": [
    {
     "name": "stdout",
     "output_type": "stream",
     "text": [
      "getting file user_info.csv\n",
      "./version/user_info.csv got.\n"
     ]
    }
   ],
   "source": [
    "names = ['user_info.csv']\n",
    "download(names)"
   ]
  },
  {
   "cell_type": "code",
   "execution_count": null,
   "metadata": {},
   "outputs": [],
   "source": []
  }
 ],
 "metadata": {
  "kernelspec": {
   "display_name": "conda_tensorflow2_py3",
   "language": "python",
   "name": "conda_tensorflow2_py3"
  },
  "language_info": {
   "codemirror_mode": {
    "name": "ipython",
    "version": 3
   },
   "file_extension": ".py",
   "mimetype": "text/x-python",
   "name": "python",
   "nbconvert_exporter": "python",
   "pygments_lexer": "ipython3",
   "version": "3.6.5"
  }
 },
 "nbformat": 4,
 "nbformat_minor": 4
}
