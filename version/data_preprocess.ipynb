{
 "cells": [
  {
   "cell_type": "code",
   "execution_count": 1,
   "metadata": {},
   "outputs": [],
   "source": [
    "import pandas as pd\n",
    "import numpy as np"
   ]
  },
  {
   "cell_type": "code",
   "execution_count": null,
   "metadata": {},
   "outputs": [],
   "source": [
    "predict_ad=pd.read_csv(\"../test/ad.csv\")\n",
    "predict_click_log=pd.read_csv(\"../test/click_log.csv\")\n",
    "train_ad=pd.read_csv(\"../train_preliminary/ad.csv\")\n",
    "train_click_log=pd.read_csv(\"../train_preliminary/click_log.csv\")\n",
    "train_user=pd.read_csv(\"../train_preliminary/user.csv\")"
   ]
  },
  {
   "cell_type": "code",
   "execution_count": null,
   "metadata": {},
   "outputs": [],
   "source": [
    "train_merged=pd.merge(train_ad,train_click_log,on='creative_id')\n",
    "train_merged=pd.merge(train_merged,train_user,on='user_id')\n",
    "train_merged[\"product_id\"].replace({\"\\\\N\":\"0\"},inplace=True)\n",
    "train_merged[\"industry\"].replace({\"\\\\N\":\"0\"},inplace=True)\n",
    "train_merged=train_merged.astype(int)\n",
    "display(train_merged)\n",
    "# 注意这里不要保存index\n",
    "train_merged.to_csv(\"train_merged.csv\",index=False)\n",
    "# 读数据要注意先转换成int类型\n",
    "# train_merged=train_merged.astype(int)"
   ]
  },
  {
   "cell_type": "code",
   "execution_count": null,
   "metadata": {},
   "outputs": [],
   "source": [
    "predict_merged=pd.merge(predict_ad,predict_click_log,on='creative_id')\n",
    "predict_merged[\"product_id\"].replace({\"\\\\N\":\"0\"},inplace=True)\n",
    "predict_merged[\"industry\"].replace({\"\\\\N\":\"0\"},inplace=True)\n",
    "predict_merged=predict_merged.astype(int)\n",
    "display(predict_merged)\n",
    "# 注意这里不要保存index\n",
    "predict_merged.to_csv(\"predict_merged.csv\",index=False)\n",
    "# 读数据要注意先转换成int类型\n",
    "# train_merged=train_merged.astype(int)"
   ]
  },
  {
   "cell_type": "code",
   "execution_count": null,
   "metadata": {},
   "outputs": [],
   "source": []
  }
 ],
 "metadata": {
  "kernelspec": {
   "display_name": "conda_tensorflow_py3",
   "language": "python",
   "name": "conda_tensorflow_py3"
  },
  "language_info": {
   "codemirror_mode": {
    "name": "ipython",
    "version": 3
   },
   "file_extension": ".py",
   "mimetype": "text/x-python",
   "name": "python",
   "nbconvert_exporter": "python",
   "pygments_lexer": "ipython3",
   "version": "3.6.5"
  }
 },
 "nbformat": 4,
 "nbformat_minor": 4
}
