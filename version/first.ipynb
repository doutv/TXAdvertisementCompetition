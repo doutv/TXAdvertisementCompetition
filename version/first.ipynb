{
 "cells": [
  {
   "cell_type": "code",
   "execution_count": 44,
   "metadata": {},
   "outputs": [],
   "source": [
    "import pandas as pd\n",
    "import numpy as np\n"
   ]
  },
  {
   "cell_type": "code",
   "execution_count": 45,
   "metadata": {},
   "outputs": [],
   "source": [
    "test_ad=pd.read_csv(\"..\\\\test\\\\ad.csv\")\n",
    "test_click_log=pd.read_csv(\"..\\\\test\\\\click_log.csv\")"
   ]
  },
  {
   "cell_type": "code",
   "execution_count": 46,
   "metadata": {},
   "outputs": [],
   "source": [
    "train_ad=pd.read_csv(\"..\\\\train_preliminary\\\\ad.csv\")\n",
    "train_click_log=pd.read_csv(\"..\\\\train_preliminary\\\\click_log.csv\")\n",
    "train_user=pd.read_csv(\"..\\\\train_preliminary\\\\user.csv\")"
   ]
  },
  {
   "cell_type": "code",
   "execution_count": 47,
   "metadata": {},
   "outputs": [
    {
     "output_type": "execute_result",
     "data": {
      "text/plain": "         creative_id    ad_id  ... advertiser_id  industry\n0                  1        1  ...           381        78\n1                  4        4  ...           108       202\n2                  7        7  ...           148       297\n3                  8        8  ...           713       213\n4                  9        9  ...           695       213\n...              ...      ...  ...           ...       ...\n2481130      4445714  3812196  ...         56976       248\n2481131      4445715  3812197  ...           427        \\N\n2481132      4445716  3812198  ...           427        \\N\n2481133      4445717  3812199  ...           427        \\N\n2481134      4445718  3812200  ...           427        \\N\n\n[2481135 rows x 6 columns]",
      "text/html": "<div>\n<style scoped>\n    .dataframe tbody tr th:only-of-type {\n        vertical-align: middle;\n    }\n\n    .dataframe tbody tr th {\n        vertical-align: top;\n    }\n\n    .dataframe thead th {\n        text-align: right;\n    }\n</style>\n<table border=\"1\" class=\"dataframe\">\n  <thead>\n    <tr style=\"text-align: right;\">\n      <th></th>\n      <th>creative_id</th>\n      <th>ad_id</th>\n      <th>product_id</th>\n      <th>product_category</th>\n      <th>advertiser_id</th>\n      <th>industry</th>\n    </tr>\n  </thead>\n  <tbody>\n    <tr>\n      <th>0</th>\n      <td>1</td>\n      <td>1</td>\n      <td>\\N</td>\n      <td>5</td>\n      <td>381</td>\n      <td>78</td>\n    </tr>\n    <tr>\n      <th>1</th>\n      <td>4</td>\n      <td>4</td>\n      <td>\\N</td>\n      <td>5</td>\n      <td>108</td>\n      <td>202</td>\n    </tr>\n    <tr>\n      <th>2</th>\n      <td>7</td>\n      <td>7</td>\n      <td>\\N</td>\n      <td>5</td>\n      <td>148</td>\n      <td>297</td>\n    </tr>\n    <tr>\n      <th>3</th>\n      <td>8</td>\n      <td>8</td>\n      <td>\\N</td>\n      <td>5</td>\n      <td>713</td>\n      <td>213</td>\n    </tr>\n    <tr>\n      <th>4</th>\n      <td>9</td>\n      <td>9</td>\n      <td>\\N</td>\n      <td>5</td>\n      <td>695</td>\n      <td>213</td>\n    </tr>\n    <tr>\n      <th>...</th>\n      <td>...</td>\n      <td>...</td>\n      <td>...</td>\n      <td>...</td>\n      <td>...</td>\n      <td>...</td>\n    </tr>\n    <tr>\n      <th>2481130</th>\n      <td>4445714</td>\n      <td>3812196</td>\n      <td>9152</td>\n      <td>3</td>\n      <td>56976</td>\n      <td>248</td>\n    </tr>\n    <tr>\n      <th>2481131</th>\n      <td>4445715</td>\n      <td>3812197</td>\n      <td>39063</td>\n      <td>17</td>\n      <td>427</td>\n      <td>\\N</td>\n    </tr>\n    <tr>\n      <th>2481132</th>\n      <td>4445716</td>\n      <td>3812198</td>\n      <td>39063</td>\n      <td>17</td>\n      <td>427</td>\n      <td>\\N</td>\n    </tr>\n    <tr>\n      <th>2481133</th>\n      <td>4445717</td>\n      <td>3812199</td>\n      <td>35885</td>\n      <td>17</td>\n      <td>427</td>\n      <td>\\N</td>\n    </tr>\n    <tr>\n      <th>2481134</th>\n      <td>4445718</td>\n      <td>3812200</td>\n      <td>39287</td>\n      <td>17</td>\n      <td>427</td>\n      <td>\\N</td>\n    </tr>\n  </tbody>\n</table>\n<p>2481135 rows × 6 columns</p>\n</div>"
     },
     "metadata": {},
     "execution_count": 47
    }
   ],
   "source": [
    "train_ad"
   ]
  },
  {
   "cell_type": "code",
   "execution_count": 48,
   "metadata": {},
   "outputs": [
    {
     "output_type": "execute_result",
     "data": {
      "text/plain": "          time  user_id  creative_id  click_times\n0            9    30920       567330            1\n1           65    30920      3072255            1\n2           56    30920      2361327            1\n3            6   309204       325532            1\n4           59   309204      2746730            1\n...        ...      ...          ...          ...\n30082766     6    30920       228129            1\n30082767    57    30920      2361397            1\n30082768    26    30920       629802            1\n30082769    86    30920      2713031            1\n30082770    25    30920       629802            1\n\n[30082771 rows x 4 columns]",
      "text/html": "<div>\n<style scoped>\n    .dataframe tbody tr th:only-of-type {\n        vertical-align: middle;\n    }\n\n    .dataframe tbody tr th {\n        vertical-align: top;\n    }\n\n    .dataframe thead th {\n        text-align: right;\n    }\n</style>\n<table border=\"1\" class=\"dataframe\">\n  <thead>\n    <tr style=\"text-align: right;\">\n      <th></th>\n      <th>time</th>\n      <th>user_id</th>\n      <th>creative_id</th>\n      <th>click_times</th>\n    </tr>\n  </thead>\n  <tbody>\n    <tr>\n      <th>0</th>\n      <td>9</td>\n      <td>30920</td>\n      <td>567330</td>\n      <td>1</td>\n    </tr>\n    <tr>\n      <th>1</th>\n      <td>65</td>\n      <td>30920</td>\n      <td>3072255</td>\n      <td>1</td>\n    </tr>\n    <tr>\n      <th>2</th>\n      <td>56</td>\n      <td>30920</td>\n      <td>2361327</td>\n      <td>1</td>\n    </tr>\n    <tr>\n      <th>3</th>\n      <td>6</td>\n      <td>309204</td>\n      <td>325532</td>\n      <td>1</td>\n    </tr>\n    <tr>\n      <th>4</th>\n      <td>59</td>\n      <td>309204</td>\n      <td>2746730</td>\n      <td>1</td>\n    </tr>\n    <tr>\n      <th>...</th>\n      <td>...</td>\n      <td>...</td>\n      <td>...</td>\n      <td>...</td>\n    </tr>\n    <tr>\n      <th>30082766</th>\n      <td>6</td>\n      <td>30920</td>\n      <td>228129</td>\n      <td>1</td>\n    </tr>\n    <tr>\n      <th>30082767</th>\n      <td>57</td>\n      <td>30920</td>\n      <td>2361397</td>\n      <td>1</td>\n    </tr>\n    <tr>\n      <th>30082768</th>\n      <td>26</td>\n      <td>30920</td>\n      <td>629802</td>\n      <td>1</td>\n    </tr>\n    <tr>\n      <th>30082769</th>\n      <td>86</td>\n      <td>30920</td>\n      <td>2713031</td>\n      <td>1</td>\n    </tr>\n    <tr>\n      <th>30082770</th>\n      <td>25</td>\n      <td>30920</td>\n      <td>629802</td>\n      <td>1</td>\n    </tr>\n  </tbody>\n</table>\n<p>30082771 rows × 4 columns</p>\n</div>"
     },
     "metadata": {},
     "execution_count": 48
    }
   ],
   "source": [
    "train_click_log"
   ]
  },
  {
   "cell_type": "code",
   "execution_count": 49,
   "metadata": {},
   "outputs": [
    {
     "output_type": "execute_result",
     "data": {
      "text/plain": "        user_id  age  gender\n0             1    4       1\n1             2   10       1\n2             3    7       2\n3             4    5       1\n4             5    4       1\n...         ...  ...     ...\n899995   899996    5       1\n899996   899997    3       2\n899997   899998    4       2\n899998   899999    3       1\n899999   900000    3       2\n\n[900000 rows x 3 columns]",
      "text/html": "<div>\n<style scoped>\n    .dataframe tbody tr th:only-of-type {\n        vertical-align: middle;\n    }\n\n    .dataframe tbody tr th {\n        vertical-align: top;\n    }\n\n    .dataframe thead th {\n        text-align: right;\n    }\n</style>\n<table border=\"1\" class=\"dataframe\">\n  <thead>\n    <tr style=\"text-align: right;\">\n      <th></th>\n      <th>user_id</th>\n      <th>age</th>\n      <th>gender</th>\n    </tr>\n  </thead>\n  <tbody>\n    <tr>\n      <th>0</th>\n      <td>1</td>\n      <td>4</td>\n      <td>1</td>\n    </tr>\n    <tr>\n      <th>1</th>\n      <td>2</td>\n      <td>10</td>\n      <td>1</td>\n    </tr>\n    <tr>\n      <th>2</th>\n      <td>3</td>\n      <td>7</td>\n      <td>2</td>\n    </tr>\n    <tr>\n      <th>3</th>\n      <td>4</td>\n      <td>5</td>\n      <td>1</td>\n    </tr>\n    <tr>\n      <th>4</th>\n      <td>5</td>\n      <td>4</td>\n      <td>1</td>\n    </tr>\n    <tr>\n      <th>...</th>\n      <td>...</td>\n      <td>...</td>\n      <td>...</td>\n    </tr>\n    <tr>\n      <th>899995</th>\n      <td>899996</td>\n      <td>5</td>\n      <td>1</td>\n    </tr>\n    <tr>\n      <th>899996</th>\n      <td>899997</td>\n      <td>3</td>\n      <td>2</td>\n    </tr>\n    <tr>\n      <th>899997</th>\n      <td>899998</td>\n      <td>4</td>\n      <td>2</td>\n    </tr>\n    <tr>\n      <th>899998</th>\n      <td>899999</td>\n      <td>3</td>\n      <td>1</td>\n    </tr>\n    <tr>\n      <th>899999</th>\n      <td>900000</td>\n      <td>3</td>\n      <td>2</td>\n    </tr>\n  </tbody>\n</table>\n<p>900000 rows × 3 columns</p>\n</div>"
     },
     "metadata": {},
     "execution_count": 49
    }
   ],
   "source": [
    "train_user"
   ]
  },
  {
   "cell_type": "code",
   "execution_count": 51,
   "metadata": {},
   "outputs": [
    {
     "output_type": "error",
     "ename": "MemoryError",
     "evalue": "Unable to allocate array with shape (2, 30082771) and data type int64",
     "traceback": [
      "\u001b[1;31m---------------------------------------------------------------------------\u001b[0m",
      "\u001b[1;31mMemoryError\u001b[0m                               Traceback (most recent call last)",
      "\u001b[1;32m<ipython-input-51-8d41ebb7abc9>\u001b[0m in \u001b[0;36m<module>\u001b[1;34m\u001b[0m\n\u001b[1;32m----> 1\u001b[1;33m \u001b[0mtrain_merged\u001b[0m\u001b[1;33m=\u001b[0m\u001b[0mpd\u001b[0m\u001b[1;33m.\u001b[0m\u001b[0mmerge\u001b[0m\u001b[1;33m(\u001b[0m\u001b[0mtrain_ad\u001b[0m\u001b[1;33m,\u001b[0m\u001b[0mtrain_click_log\u001b[0m\u001b[1;33m,\u001b[0m\u001b[0mon\u001b[0m\u001b[1;33m=\u001b[0m\u001b[1;34m'creative_id'\u001b[0m\u001b[1;33m)\u001b[0m\u001b[1;33m\u001b[0m\u001b[1;33m\u001b[0m\u001b[0m\n\u001b[0m\u001b[0;32m      2\u001b[0m \u001b[0mtrain_merged\u001b[0m\u001b[1;33m=\u001b[0m\u001b[0mpd\u001b[0m\u001b[1;33m.\u001b[0m\u001b[0mmerge\u001b[0m\u001b[1;33m(\u001b[0m\u001b[0mtrain_merged\u001b[0m\u001b[1;33m,\u001b[0m\u001b[0mtrain_user\u001b[0m\u001b[1;33m,\u001b[0m\u001b[0mon\u001b[0m\u001b[1;33m=\u001b[0m\u001b[1;34m'user_id'\u001b[0m\u001b[1;33m)\u001b[0m\u001b[1;33m\u001b[0m\u001b[1;33m\u001b[0m\u001b[0m\n\u001b[0;32m      3\u001b[0m \u001b[0mdisplay\u001b[0m\u001b[1;33m(\u001b[0m\u001b[0mtrain_merged\u001b[0m\u001b[1;33m)\u001b[0m\u001b[1;33m\u001b[0m\u001b[1;33m\u001b[0m\u001b[0m\n",
      "\u001b[1;32m~\\AppData\\Roaming\\Python\\Python37\\site-packages\\pandas\\core\\reshape\\merge.py\u001b[0m in \u001b[0;36mmerge\u001b[1;34m(left, right, how, on, left_on, right_on, left_index, right_index, sort, suffixes, copy, indicator, validate)\u001b[0m\n\u001b[0;32m     81\u001b[0m         \u001b[0mvalidate\u001b[0m\u001b[1;33m=\u001b[0m\u001b[0mvalidate\u001b[0m\u001b[1;33m,\u001b[0m\u001b[1;33m\u001b[0m\u001b[1;33m\u001b[0m\u001b[0m\n\u001b[0;32m     82\u001b[0m     )\n\u001b[1;32m---> 83\u001b[1;33m     \u001b[1;32mreturn\u001b[0m \u001b[0mop\u001b[0m\u001b[1;33m.\u001b[0m\u001b[0mget_result\u001b[0m\u001b[1;33m(\u001b[0m\u001b[1;33m)\u001b[0m\u001b[1;33m\u001b[0m\u001b[1;33m\u001b[0m\u001b[0m\n\u001b[0m\u001b[0;32m     84\u001b[0m \u001b[1;33m\u001b[0m\u001b[0m\n\u001b[0;32m     85\u001b[0m \u001b[1;33m\u001b[0m\u001b[0m\n",
      "\u001b[1;32m~\\AppData\\Roaming\\Python\\Python37\\site-packages\\pandas\\core\\reshape\\merge.py\u001b[0m in \u001b[0;36mget_result\u001b[1;34m(self)\u001b[0m\n\u001b[0;32m    656\u001b[0m             \u001b[0maxes\u001b[0m\u001b[1;33m=\u001b[0m\u001b[1;33m[\u001b[0m\u001b[0mllabels\u001b[0m\u001b[1;33m.\u001b[0m\u001b[0mappend\u001b[0m\u001b[1;33m(\u001b[0m\u001b[0mrlabels\u001b[0m\u001b[1;33m)\u001b[0m\u001b[1;33m,\u001b[0m \u001b[0mjoin_index\u001b[0m\u001b[1;33m]\u001b[0m\u001b[1;33m,\u001b[0m\u001b[1;33m\u001b[0m\u001b[1;33m\u001b[0m\u001b[0m\n\u001b[0;32m    657\u001b[0m             \u001b[0mconcat_axis\u001b[0m\u001b[1;33m=\u001b[0m\u001b[1;36m0\u001b[0m\u001b[1;33m,\u001b[0m\u001b[1;33m\u001b[0m\u001b[1;33m\u001b[0m\u001b[0m\n\u001b[1;32m--> 658\u001b[1;33m             \u001b[0mcopy\u001b[0m\u001b[1;33m=\u001b[0m\u001b[0mself\u001b[0m\u001b[1;33m.\u001b[0m\u001b[0mcopy\u001b[0m\u001b[1;33m,\u001b[0m\u001b[1;33m\u001b[0m\u001b[1;33m\u001b[0m\u001b[0m\n\u001b[0m\u001b[0;32m    659\u001b[0m         )\n\u001b[0;32m    660\u001b[0m \u001b[1;33m\u001b[0m\u001b[0m\n",
      "\u001b[1;32m~\\AppData\\Roaming\\Python\\Python37\\site-packages\\pandas\\core\\internals\\managers.py\u001b[0m in \u001b[0;36mconcatenate_block_managers\u001b[1;34m(mgrs_indexers, axes, concat_axis, copy)\u001b[0m\n\u001b[0;32m   2052\u001b[0m         \u001b[1;32melse\u001b[0m\u001b[1;33m:\u001b[0m\u001b[1;33m\u001b[0m\u001b[1;33m\u001b[0m\u001b[0m\n\u001b[0;32m   2053\u001b[0m             b = make_block(\n\u001b[1;32m-> 2054\u001b[1;33m                 \u001b[0mconcatenate_join_units\u001b[0m\u001b[1;33m(\u001b[0m\u001b[0mjoin_units\u001b[0m\u001b[1;33m,\u001b[0m \u001b[0mconcat_axis\u001b[0m\u001b[1;33m,\u001b[0m \u001b[0mcopy\u001b[0m\u001b[1;33m=\u001b[0m\u001b[0mcopy\u001b[0m\u001b[1;33m)\u001b[0m\u001b[1;33m,\u001b[0m\u001b[1;33m\u001b[0m\u001b[1;33m\u001b[0m\u001b[0m\n\u001b[0m\u001b[0;32m   2055\u001b[0m                 \u001b[0mplacement\u001b[0m\u001b[1;33m=\u001b[0m\u001b[0mplacement\u001b[0m\u001b[1;33m,\u001b[0m\u001b[1;33m\u001b[0m\u001b[1;33m\u001b[0m\u001b[0m\n\u001b[0;32m   2056\u001b[0m             )\n",
      "\u001b[1;32m~\\AppData\\Roaming\\Python\\Python37\\site-packages\\pandas\\core\\internals\\concat.py\u001b[0m in \u001b[0;36mconcatenate_join_units\u001b[1;34m(join_units, concat_axis, copy)\u001b[0m\n\u001b[0;32m    251\u001b[0m     to_concat = [\n\u001b[0;32m    252\u001b[0m         \u001b[0mju\u001b[0m\u001b[1;33m.\u001b[0m\u001b[0mget_reindexed_values\u001b[0m\u001b[1;33m(\u001b[0m\u001b[0mempty_dtype\u001b[0m\u001b[1;33m=\u001b[0m\u001b[0mempty_dtype\u001b[0m\u001b[1;33m,\u001b[0m \u001b[0mupcasted_na\u001b[0m\u001b[1;33m=\u001b[0m\u001b[0mupcasted_na\u001b[0m\u001b[1;33m)\u001b[0m\u001b[1;33m\u001b[0m\u001b[1;33m\u001b[0m\u001b[0m\n\u001b[1;32m--> 253\u001b[1;33m         \u001b[1;32mfor\u001b[0m \u001b[0mju\u001b[0m \u001b[1;32min\u001b[0m \u001b[0mjoin_units\u001b[0m\u001b[1;33m\u001b[0m\u001b[1;33m\u001b[0m\u001b[0m\n\u001b[0m\u001b[0;32m    254\u001b[0m     ]\n\u001b[0;32m    255\u001b[0m \u001b[1;33m\u001b[0m\u001b[0m\n",
      "\u001b[1;32m~\\AppData\\Roaming\\Python\\Python37\\site-packages\\pandas\\core\\internals\\concat.py\u001b[0m in \u001b[0;36m<listcomp>\u001b[1;34m(.0)\u001b[0m\n\u001b[0;32m    251\u001b[0m     to_concat = [\n\u001b[0;32m    252\u001b[0m         \u001b[0mju\u001b[0m\u001b[1;33m.\u001b[0m\u001b[0mget_reindexed_values\u001b[0m\u001b[1;33m(\u001b[0m\u001b[0mempty_dtype\u001b[0m\u001b[1;33m=\u001b[0m\u001b[0mempty_dtype\u001b[0m\u001b[1;33m,\u001b[0m \u001b[0mupcasted_na\u001b[0m\u001b[1;33m=\u001b[0m\u001b[0mupcasted_na\u001b[0m\u001b[1;33m)\u001b[0m\u001b[1;33m\u001b[0m\u001b[1;33m\u001b[0m\u001b[0m\n\u001b[1;32m--> 253\u001b[1;33m         \u001b[1;32mfor\u001b[0m \u001b[0mju\u001b[0m \u001b[1;32min\u001b[0m \u001b[0mjoin_units\u001b[0m\u001b[1;33m\u001b[0m\u001b[1;33m\u001b[0m\u001b[0m\n\u001b[0m\u001b[0;32m    254\u001b[0m     ]\n\u001b[0;32m    255\u001b[0m \u001b[1;33m\u001b[0m\u001b[0m\n",
      "\u001b[1;32m~\\AppData\\Roaming\\Python\\Python37\\site-packages\\pandas\\core\\internals\\concat.py\u001b[0m in \u001b[0;36mget_reindexed_values\u001b[1;34m(self, empty_dtype, upcasted_na)\u001b[0m\n\u001b[0;32m    234\u001b[0m         \u001b[1;32melse\u001b[0m\u001b[1;33m:\u001b[0m\u001b[1;33m\u001b[0m\u001b[1;33m\u001b[0m\u001b[0m\n\u001b[0;32m    235\u001b[0m             \u001b[1;32mfor\u001b[0m \u001b[0max\u001b[0m\u001b[1;33m,\u001b[0m \u001b[0mindexer\u001b[0m \u001b[1;32min\u001b[0m \u001b[0mself\u001b[0m\u001b[1;33m.\u001b[0m\u001b[0mindexers\u001b[0m\u001b[1;33m.\u001b[0m\u001b[0mitems\u001b[0m\u001b[1;33m(\u001b[0m\u001b[1;33m)\u001b[0m\u001b[1;33m:\u001b[0m\u001b[1;33m\u001b[0m\u001b[1;33m\u001b[0m\u001b[0m\n\u001b[1;32m--> 236\u001b[1;33m                 \u001b[0mvalues\u001b[0m \u001b[1;33m=\u001b[0m \u001b[0malgos\u001b[0m\u001b[1;33m.\u001b[0m\u001b[0mtake_nd\u001b[0m\u001b[1;33m(\u001b[0m\u001b[0mvalues\u001b[0m\u001b[1;33m,\u001b[0m \u001b[0mindexer\u001b[0m\u001b[1;33m,\u001b[0m \u001b[0maxis\u001b[0m\u001b[1;33m=\u001b[0m\u001b[0max\u001b[0m\u001b[1;33m,\u001b[0m \u001b[0mfill_value\u001b[0m\u001b[1;33m=\u001b[0m\u001b[0mfill_value\u001b[0m\u001b[1;33m)\u001b[0m\u001b[1;33m\u001b[0m\u001b[1;33m\u001b[0m\u001b[0m\n\u001b[0m\u001b[0;32m    237\u001b[0m \u001b[1;33m\u001b[0m\u001b[0m\n\u001b[0;32m    238\u001b[0m         \u001b[1;32mreturn\u001b[0m \u001b[0mvalues\u001b[0m\u001b[1;33m\u001b[0m\u001b[1;33m\u001b[0m\u001b[0m\n",
      "\u001b[1;32m~\\AppData\\Roaming\\Python\\Python37\\site-packages\\pandas\\core\\algorithms.py\u001b[0m in \u001b[0;36mtake_nd\u001b[1;34m(arr, indexer, axis, out, fill_value, mask_info, allow_fill)\u001b[0m\n\u001b[0;32m   1714\u001b[0m             \u001b[0mout\u001b[0m \u001b[1;33m=\u001b[0m \u001b[0mnp\u001b[0m\u001b[1;33m.\u001b[0m\u001b[0mempty\u001b[0m\u001b[1;33m(\u001b[0m\u001b[0mout_shape\u001b[0m\u001b[1;33m,\u001b[0m \u001b[0mdtype\u001b[0m\u001b[1;33m=\u001b[0m\u001b[0mdtype\u001b[0m\u001b[1;33m,\u001b[0m \u001b[0morder\u001b[0m\u001b[1;33m=\u001b[0m\u001b[1;34m\"F\"\u001b[0m\u001b[1;33m)\u001b[0m\u001b[1;33m\u001b[0m\u001b[1;33m\u001b[0m\u001b[0m\n\u001b[0;32m   1715\u001b[0m         \u001b[1;32melse\u001b[0m\u001b[1;33m:\u001b[0m\u001b[1;33m\u001b[0m\u001b[1;33m\u001b[0m\u001b[0m\n\u001b[1;32m-> 1716\u001b[1;33m             \u001b[0mout\u001b[0m \u001b[1;33m=\u001b[0m \u001b[0mnp\u001b[0m\u001b[1;33m.\u001b[0m\u001b[0mempty\u001b[0m\u001b[1;33m(\u001b[0m\u001b[0mout_shape\u001b[0m\u001b[1;33m,\u001b[0m \u001b[0mdtype\u001b[0m\u001b[1;33m=\u001b[0m\u001b[0mdtype\u001b[0m\u001b[1;33m)\u001b[0m\u001b[1;33m\u001b[0m\u001b[1;33m\u001b[0m\u001b[0m\n\u001b[0m\u001b[0;32m   1717\u001b[0m \u001b[1;33m\u001b[0m\u001b[0m\n\u001b[0;32m   1718\u001b[0m     func = _get_take_nd_function(\n",
      "\u001b[1;31mMemoryError\u001b[0m: Unable to allocate array with shape (2, 30082771) and data type int64"
     ]
    }
   ],
   "source": [
    "train_merged=pd.merge(train_ad,train_click_log,on='creative_id')\n",
    "train_merged=pd.merge(train_merged,train_user,on='user_id')\n",
    "display(train_merged)"
   ]
  },
  {
   "cell_type": "code",
   "execution_count": 43,
   "metadata": {},
   "outputs": [
    {
     "output_type": "execute_result",
     "data": {
      "text/plain": "          time  user_id  creative_id  click_times\n0            9    30920       567330            1\n1           65    30920      3072255            1\n2           56    30920      2361327            1\n30082732    81    30920      3879497            1\n30082733    80    30920      3751623            1\n30082734    17    30920       188898            1\n30082735    46    30920      2164075            1\n30082736    49    30920      2085566            1\n30082737    64    30920      2901618            1\n30082738    37    30920       851785            1\n30082739    60    30920      2901618            1\n30082740    52    30920      2361439            1\n30082741    71    30920      3135943            1\n30082742    59    30920      2577794            1\n30082743    12    30920       717026            1\n30082744     3    30920        91645            1\n30082745    23    30920      1226743            1\n30082746    11    30920       563952            1\n30082747    26    30920      1390285            1\n30082748    18    30920       566646            1\n30082749    50    30920      2346223            1\n30082750    29    30920      1520949            1\n30082751    77    30920      3735774            1\n30082752    91    30920      4351674            1\n30082753    77    30920      3260862            1\n30082754    28    30920      1237871            1\n30082755    29    30920        15373            1\n30082756    29    30920       475252            1\n30082757    35    30920      1638771            1\n30082758    52    30920      1875572            1\n30082759    63    30920      1711578            1\n30082760    54    30920      2233268            1\n30082761    52    30920      2361397            1\n30082762    52    30920         9148            1\n30082763    53    30920      2361397            1\n30082764    40    30920        22298            2\n30082765    72    30920      2361397            1\n30082766     6    30920       228129            1\n30082767    57    30920      2361397            1\n30082768    26    30920       629802            1\n30082769    86    30920      2713031            1\n30082770    25    30920       629802            1",
      "text/html": "<div>\n<style scoped>\n    .dataframe tbody tr th:only-of-type {\n        vertical-align: middle;\n    }\n\n    .dataframe tbody tr th {\n        vertical-align: top;\n    }\n\n    .dataframe thead th {\n        text-align: right;\n    }\n</style>\n<table border=\"1\" class=\"dataframe\">\n  <thead>\n    <tr style=\"text-align: right;\">\n      <th></th>\n      <th>time</th>\n      <th>user_id</th>\n      <th>creative_id</th>\n      <th>click_times</th>\n    </tr>\n  </thead>\n  <tbody>\n    <tr>\n      <th>0</th>\n      <td>9</td>\n      <td>30920</td>\n      <td>567330</td>\n      <td>1</td>\n    </tr>\n    <tr>\n      <th>1</th>\n      <td>65</td>\n      <td>30920</td>\n      <td>3072255</td>\n      <td>1</td>\n    </tr>\n    <tr>\n      <th>2</th>\n      <td>56</td>\n      <td>30920</td>\n      <td>2361327</td>\n      <td>1</td>\n    </tr>\n    <tr>\n      <th>30082732</th>\n      <td>81</td>\n      <td>30920</td>\n      <td>3879497</td>\n      <td>1</td>\n    </tr>\n    <tr>\n      <th>30082733</th>\n      <td>80</td>\n      <td>30920</td>\n      <td>3751623</td>\n      <td>1</td>\n    </tr>\n    <tr>\n      <th>30082734</th>\n      <td>17</td>\n      <td>30920</td>\n      <td>188898</td>\n      <td>1</td>\n    </tr>\n    <tr>\n      <th>30082735</th>\n      <td>46</td>\n      <td>30920</td>\n      <td>2164075</td>\n      <td>1</td>\n    </tr>\n    <tr>\n      <th>30082736</th>\n      <td>49</td>\n      <td>30920</td>\n      <td>2085566</td>\n      <td>1</td>\n    </tr>\n    <tr>\n      <th>30082737</th>\n      <td>64</td>\n      <td>30920</td>\n      <td>2901618</td>\n      <td>1</td>\n    </tr>\n    <tr>\n      <th>30082738</th>\n      <td>37</td>\n      <td>30920</td>\n      <td>851785</td>\n      <td>1</td>\n    </tr>\n    <tr>\n      <th>30082739</th>\n      <td>60</td>\n      <td>30920</td>\n      <td>2901618</td>\n      <td>1</td>\n    </tr>\n    <tr>\n      <th>30082740</th>\n      <td>52</td>\n      <td>30920</td>\n      <td>2361439</td>\n      <td>1</td>\n    </tr>\n    <tr>\n      <th>30082741</th>\n      <td>71</td>\n      <td>30920</td>\n      <td>3135943</td>\n      <td>1</td>\n    </tr>\n    <tr>\n      <th>30082742</th>\n      <td>59</td>\n      <td>30920</td>\n      <td>2577794</td>\n      <td>1</td>\n    </tr>\n    <tr>\n      <th>30082743</th>\n      <td>12</td>\n      <td>30920</td>\n      <td>717026</td>\n      <td>1</td>\n    </tr>\n    <tr>\n      <th>30082744</th>\n      <td>3</td>\n      <td>30920</td>\n      <td>91645</td>\n      <td>1</td>\n    </tr>\n    <tr>\n      <th>30082745</th>\n      <td>23</td>\n      <td>30920</td>\n      <td>1226743</td>\n      <td>1</td>\n    </tr>\n    <tr>\n      <th>30082746</th>\n      <td>11</td>\n      <td>30920</td>\n      <td>563952</td>\n      <td>1</td>\n    </tr>\n    <tr>\n      <th>30082747</th>\n      <td>26</td>\n      <td>30920</td>\n      <td>1390285</td>\n      <td>1</td>\n    </tr>\n    <tr>\n      <th>30082748</th>\n      <td>18</td>\n      <td>30920</td>\n      <td>566646</td>\n      <td>1</td>\n    </tr>\n    <tr>\n      <th>30082749</th>\n      <td>50</td>\n      <td>30920</td>\n      <td>2346223</td>\n      <td>1</td>\n    </tr>\n    <tr>\n      <th>30082750</th>\n      <td>29</td>\n      <td>30920</td>\n      <td>1520949</td>\n      <td>1</td>\n    </tr>\n    <tr>\n      <th>30082751</th>\n      <td>77</td>\n      <td>30920</td>\n      <td>3735774</td>\n      <td>1</td>\n    </tr>\n    <tr>\n      <th>30082752</th>\n      <td>91</td>\n      <td>30920</td>\n      <td>4351674</td>\n      <td>1</td>\n    </tr>\n    <tr>\n      <th>30082753</th>\n      <td>77</td>\n      <td>30920</td>\n      <td>3260862</td>\n      <td>1</td>\n    </tr>\n    <tr>\n      <th>30082754</th>\n      <td>28</td>\n      <td>30920</td>\n      <td>1237871</td>\n      <td>1</td>\n    </tr>\n    <tr>\n      <th>30082755</th>\n      <td>29</td>\n      <td>30920</td>\n      <td>15373</td>\n      <td>1</td>\n    </tr>\n    <tr>\n      <th>30082756</th>\n      <td>29</td>\n      <td>30920</td>\n      <td>475252</td>\n      <td>1</td>\n    </tr>\n    <tr>\n      <th>30082757</th>\n      <td>35</td>\n      <td>30920</td>\n      <td>1638771</td>\n      <td>1</td>\n    </tr>\n    <tr>\n      <th>30082758</th>\n      <td>52</td>\n      <td>30920</td>\n      <td>1875572</td>\n      <td>1</td>\n    </tr>\n    <tr>\n      <th>30082759</th>\n      <td>63</td>\n      <td>30920</td>\n      <td>1711578</td>\n      <td>1</td>\n    </tr>\n    <tr>\n      <th>30082760</th>\n      <td>54</td>\n      <td>30920</td>\n      <td>2233268</td>\n      <td>1</td>\n    </tr>\n    <tr>\n      <th>30082761</th>\n      <td>52</td>\n      <td>30920</td>\n      <td>2361397</td>\n      <td>1</td>\n    </tr>\n    <tr>\n      <th>30082762</th>\n      <td>52</td>\n      <td>30920</td>\n      <td>9148</td>\n      <td>1</td>\n    </tr>\n    <tr>\n      <th>30082763</th>\n      <td>53</td>\n      <td>30920</td>\n      <td>2361397</td>\n      <td>1</td>\n    </tr>\n    <tr>\n      <th>30082764</th>\n      <td>40</td>\n      <td>30920</td>\n      <td>22298</td>\n      <td>2</td>\n    </tr>\n    <tr>\n      <th>30082765</th>\n      <td>72</td>\n      <td>30920</td>\n      <td>2361397</td>\n      <td>1</td>\n    </tr>\n    <tr>\n      <th>30082766</th>\n      <td>6</td>\n      <td>30920</td>\n      <td>228129</td>\n      <td>1</td>\n    </tr>\n    <tr>\n      <th>30082767</th>\n      <td>57</td>\n      <td>30920</td>\n      <td>2361397</td>\n      <td>1</td>\n    </tr>\n    <tr>\n      <th>30082768</th>\n      <td>26</td>\n      <td>30920</td>\n      <td>629802</td>\n      <td>1</td>\n    </tr>\n    <tr>\n      <th>30082769</th>\n      <td>86</td>\n      <td>30920</td>\n      <td>2713031</td>\n      <td>1</td>\n    </tr>\n    <tr>\n      <th>30082770</th>\n      <td>25</td>\n      <td>30920</td>\n      <td>629802</td>\n      <td>1</td>\n    </tr>\n  </tbody>\n</table>\n</div>"
     },
     "metadata": {},
     "execution_count": 43
    }
   ],
   "source": [
    "train_merged[train_merged[\"user_id\"]==30920]"
   ]
  },
  {
   "cell_type": "code",
   "execution_count": null,
   "metadata": {},
   "outputs": [],
   "source": []
  }
 ],
 "metadata": {
  "language_info": {
   "codemirror_mode": {
    "name": "ipython",
    "version": 3
   },
   "file_extension": ".py",
   "mimetype": "text/x-python",
   "name": "python",
   "nbconvert_exporter": "python",
   "pygments_lexer": "ipython3",
   "version": "3.7.3-final"
  },
  "orig_nbformat": 2,
  "kernelspec": {
   "name": "python37364bitb6fd02937a794cd19e20b5ea21c4350f",
   "display_name": "Python 3.7.3 64-bit"
  }
 },
 "nbformat": 4,
 "nbformat_minor": 2
}