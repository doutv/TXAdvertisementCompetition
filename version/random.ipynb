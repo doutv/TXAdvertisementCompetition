{
 "cells": [
  {
   "cell_type": "code",
   "execution_count": 41,
   "metadata": {},
   "outputs": [],
   "source": [
    "import pandas as pd\n",
    "import numpy as np"
   ]
  },
  {
   "cell_type": "code",
   "execution_count": 42,
   "metadata": {},
   "outputs": [],
   "source": [
    "ad=pd.read_csv(\"..\\\\test\\\\ad.csv\")\n",
    "click_log=pd.read_csv(\"..\\\\test\\\\click_log.csv\")"
   ]
  },
  {
   "cell_type": "code",
   "execution_count": 43,
   "metadata": {},
   "outputs": [
    {
     "output_type": "execute_result",
     "data": {
      "text/plain": "         creative_id    ad_id product_id  product_category  advertiser_id  \\\n0                  1        1         \\N                 5            381   \n1                  3        3         \\N                 5            598   \n2                  4        4         \\N                 5            108   \n3                  5        5         \\N                 5            109   \n4                  6        6         \\N                 5            400   \n...              ...      ...        ...               ...            ...   \n2618154      4445713  3812195      39063                17            427   \n2618155      4445715  3812197      39063                17            427   \n2618156      4445718  3812200      39287                17            427   \n2618157      4445719  3812201      39287                17            427   \n2618158      4445720  3812202      39287                17            427   \n\n        industry  \n0             78  \n1            165  \n2            202  \n3              6  \n4              6  \n...          ...  \n2618154       \\N  \n2618155       \\N  \n2618156       \\N  \n2618157       \\N  \n2618158       \\N  \n\n[2618159 rows x 6 columns]",
      "text/html": "<div>\n<style scoped>\n    .dataframe tbody tr th:only-of-type {\n        vertical-align: middle;\n    }\n\n    .dataframe tbody tr th {\n        vertical-align: top;\n    }\n\n    .dataframe thead th {\n        text-align: right;\n    }\n</style>\n<table border=\"1\" class=\"dataframe\">\n  <thead>\n    <tr style=\"text-align: right;\">\n      <th></th>\n      <th>creative_id</th>\n      <th>ad_id</th>\n      <th>product_id</th>\n      <th>product_category</th>\n      <th>advertiser_id</th>\n      <th>industry</th>\n    </tr>\n  </thead>\n  <tbody>\n    <tr>\n      <th>0</th>\n      <td>1</td>\n      <td>1</td>\n      <td>\\N</td>\n      <td>5</td>\n      <td>381</td>\n      <td>78</td>\n    </tr>\n    <tr>\n      <th>1</th>\n      <td>3</td>\n      <td>3</td>\n      <td>\\N</td>\n      <td>5</td>\n      <td>598</td>\n      <td>165</td>\n    </tr>\n    <tr>\n      <th>2</th>\n      <td>4</td>\n      <td>4</td>\n      <td>\\N</td>\n      <td>5</td>\n      <td>108</td>\n      <td>202</td>\n    </tr>\n    <tr>\n      <th>3</th>\n      <td>5</td>\n      <td>5</td>\n      <td>\\N</td>\n      <td>5</td>\n      <td>109</td>\n      <td>6</td>\n    </tr>\n    <tr>\n      <th>4</th>\n      <td>6</td>\n      <td>6</td>\n      <td>\\N</td>\n      <td>5</td>\n      <td>400</td>\n      <td>6</td>\n    </tr>\n    <tr>\n      <th>...</th>\n      <td>...</td>\n      <td>...</td>\n      <td>...</td>\n      <td>...</td>\n      <td>...</td>\n      <td>...</td>\n    </tr>\n    <tr>\n      <th>2618154</th>\n      <td>4445713</td>\n      <td>3812195</td>\n      <td>39063</td>\n      <td>17</td>\n      <td>427</td>\n      <td>\\N</td>\n    </tr>\n    <tr>\n      <th>2618155</th>\n      <td>4445715</td>\n      <td>3812197</td>\n      <td>39063</td>\n      <td>17</td>\n      <td>427</td>\n      <td>\\N</td>\n    </tr>\n    <tr>\n      <th>2618156</th>\n      <td>4445718</td>\n      <td>3812200</td>\n      <td>39287</td>\n      <td>17</td>\n      <td>427</td>\n      <td>\\N</td>\n    </tr>\n    <tr>\n      <th>2618157</th>\n      <td>4445719</td>\n      <td>3812201</td>\n      <td>39287</td>\n      <td>17</td>\n      <td>427</td>\n      <td>\\N</td>\n    </tr>\n    <tr>\n      <th>2618158</th>\n      <td>4445720</td>\n      <td>3812202</td>\n      <td>39287</td>\n      <td>17</td>\n      <td>427</td>\n      <td>\\N</td>\n    </tr>\n  </tbody>\n</table>\n<p>2618159 rows × 6 columns</p>\n</div>"
     },
     "metadata": {},
     "execution_count": 43
    }
   ],
   "source": [
    "ad"
   ]
  },
  {
   "cell_type": "code",
   "execution_count": 44,
   "metadata": {},
   "outputs": [
    {
     "output_type": "execute_result",
     "data": {
      "text/plain": "        creative_id         ad_id  product_category  advertiser_id\ncount  2.618159e+06  2.618159e+06      2.618159e+06   2.618159e+06\nmean   2.192127e+06  1.888152e+06      7.811626e+00   2.755300e+04\nstd    1.285008e+06  1.099371e+06      6.765412e+00   1.536021e+04\nmin    1.000000e+00  1.000000e+00      1.000000e+00   1.000000e+00\n25%    1.077500e+06  9.400425e+05      2.000000e+00   1.513700e+04\n50%    2.188608e+06  1.886218e+06      5.000000e+00   2.530500e+04\n75%    3.304232e+06  2.839310e+06      1.800000e+01   3.841600e+04\nmax    4.445720e+06  3.812202e+06      1.800000e+01   6.296500e+04",
      "text/html": "<div>\n<style scoped>\n    .dataframe tbody tr th:only-of-type {\n        vertical-align: middle;\n    }\n\n    .dataframe tbody tr th {\n        vertical-align: top;\n    }\n\n    .dataframe thead th {\n        text-align: right;\n    }\n</style>\n<table border=\"1\" class=\"dataframe\">\n  <thead>\n    <tr style=\"text-align: right;\">\n      <th></th>\n      <th>creative_id</th>\n      <th>ad_id</th>\n      <th>product_category</th>\n      <th>advertiser_id</th>\n    </tr>\n  </thead>\n  <tbody>\n    <tr>\n      <th>count</th>\n      <td>2.618159e+06</td>\n      <td>2.618159e+06</td>\n      <td>2.618159e+06</td>\n      <td>2.618159e+06</td>\n    </tr>\n    <tr>\n      <th>mean</th>\n      <td>2.192127e+06</td>\n      <td>1.888152e+06</td>\n      <td>7.811626e+00</td>\n      <td>2.755300e+04</td>\n    </tr>\n    <tr>\n      <th>std</th>\n      <td>1.285008e+06</td>\n      <td>1.099371e+06</td>\n      <td>6.765412e+00</td>\n      <td>1.536021e+04</td>\n    </tr>\n    <tr>\n      <th>min</th>\n      <td>1.000000e+00</td>\n      <td>1.000000e+00</td>\n      <td>1.000000e+00</td>\n      <td>1.000000e+00</td>\n    </tr>\n    <tr>\n      <th>25%</th>\n      <td>1.077500e+06</td>\n      <td>9.400425e+05</td>\n      <td>2.000000e+00</td>\n      <td>1.513700e+04</td>\n    </tr>\n    <tr>\n      <th>50%</th>\n      <td>2.188608e+06</td>\n      <td>1.886218e+06</td>\n      <td>5.000000e+00</td>\n      <td>2.530500e+04</td>\n    </tr>\n    <tr>\n      <th>75%</th>\n      <td>3.304232e+06</td>\n      <td>2.839310e+06</td>\n      <td>1.800000e+01</td>\n      <td>3.841600e+04</td>\n    </tr>\n    <tr>\n      <th>max</th>\n      <td>4.445720e+06</td>\n      <td>3.812202e+06</td>\n      <td>1.800000e+01</td>\n      <td>6.296500e+04</td>\n    </tr>\n  </tbody>\n</table>\n</div>"
     },
     "metadata": {},
     "execution_count": 44
    }
   ],
   "source": [
    "ad.describe()"
   ]
  },
  {
   "cell_type": "code",
   "execution_count": 45,
   "metadata": {},
   "outputs": [
    {
     "output_type": "execute_result",
     "data": {
      "text/plain": "   creative_id  ad_id product_id  product_category  advertiser_id industry\n0            1      1         \\N                 5            381       78\n1            3      3         \\N                 5            598      165\n2            4      4         \\N                 5            108      202\n3            5      5         \\N                 5            109        6\n4            6      6         \\N                 5            400        6\n5            7      7         \\N                 5            148      297\n6           10     10         \\N                 5            100       73\n7           13     13         \\N                 5            113      267\n8           14     14         \\N                 5            556        2\n9           16     16         \\N                 5            623        1",
      "text/html": "<div>\n<style scoped>\n    .dataframe tbody tr th:only-of-type {\n        vertical-align: middle;\n    }\n\n    .dataframe tbody tr th {\n        vertical-align: top;\n    }\n\n    .dataframe thead th {\n        text-align: right;\n    }\n</style>\n<table border=\"1\" class=\"dataframe\">\n  <thead>\n    <tr style=\"text-align: right;\">\n      <th></th>\n      <th>creative_id</th>\n      <th>ad_id</th>\n      <th>product_id</th>\n      <th>product_category</th>\n      <th>advertiser_id</th>\n      <th>industry</th>\n    </tr>\n  </thead>\n  <tbody>\n    <tr>\n      <th>0</th>\n      <td>1</td>\n      <td>1</td>\n      <td>\\N</td>\n      <td>5</td>\n      <td>381</td>\n      <td>78</td>\n    </tr>\n    <tr>\n      <th>1</th>\n      <td>3</td>\n      <td>3</td>\n      <td>\\N</td>\n      <td>5</td>\n      <td>598</td>\n      <td>165</td>\n    </tr>\n    <tr>\n      <th>2</th>\n      <td>4</td>\n      <td>4</td>\n      <td>\\N</td>\n      <td>5</td>\n      <td>108</td>\n      <td>202</td>\n    </tr>\n    <tr>\n      <th>3</th>\n      <td>5</td>\n      <td>5</td>\n      <td>\\N</td>\n      <td>5</td>\n      <td>109</td>\n      <td>6</td>\n    </tr>\n    <tr>\n      <th>4</th>\n      <td>6</td>\n      <td>6</td>\n      <td>\\N</td>\n      <td>5</td>\n      <td>400</td>\n      <td>6</td>\n    </tr>\n    <tr>\n      <th>5</th>\n      <td>7</td>\n      <td>7</td>\n      <td>\\N</td>\n      <td>5</td>\n      <td>148</td>\n      <td>297</td>\n    </tr>\n    <tr>\n      <th>6</th>\n      <td>10</td>\n      <td>10</td>\n      <td>\\N</td>\n      <td>5</td>\n      <td>100</td>\n      <td>73</td>\n    </tr>\n    <tr>\n      <th>7</th>\n      <td>13</td>\n      <td>13</td>\n      <td>\\N</td>\n      <td>5</td>\n      <td>113</td>\n      <td>267</td>\n    </tr>\n    <tr>\n      <th>8</th>\n      <td>14</td>\n      <td>14</td>\n      <td>\\N</td>\n      <td>5</td>\n      <td>556</td>\n      <td>2</td>\n    </tr>\n    <tr>\n      <th>9</th>\n      <td>16</td>\n      <td>16</td>\n      <td>\\N</td>\n      <td>5</td>\n      <td>623</td>\n      <td>1</td>\n    </tr>\n  </tbody>\n</table>\n</div>"
     },
     "metadata": {},
     "execution_count": 45
    }
   ],
   "source": [
    "ad.head(10)"
   ]
  },
  {
   "cell_type": "code",
   "execution_count": 46,
   "metadata": {},
   "outputs": [
    {
     "output_type": "execute_result",
     "data": {
      "text/plain": "count    3.358551e+07\nmean     3.499714e+06\nstd      2.883313e+05\nmin      3.000001e+06\n25%      3.249486e+06\n50%      3.500907e+06\n75%      3.748320e+06\nmax      4.000000e+06\nName: user_id, dtype: float64"
     },
     "metadata": {},
     "execution_count": 46
    }
   ],
   "source": [
    "click_log[\"user_id\"].describe()"
   ]
  },
  {
   "cell_type": "code",
   "execution_count": 47,
   "metadata": {},
   "outputs": [
    {
     "output_type": "execute_result",
     "data": {
      "text/plain": "   time  user_id  creative_id  click_times\n0    20  3131989       645764            1\n1    20  3131989      1027422            1\n2    20  3131989      1106443            1\n3    20  3131989       629802            1\n4    59  3131989      2839769            1\n5    16  3131989       564033            1\n6    17  3131989       103304            1\n7    11  3131989       577903            1\n8    20  3131989       103304            1\n9    16  3131989       103304            1",
      "text/html": "<div>\n<style scoped>\n    .dataframe tbody tr th:only-of-type {\n        vertical-align: middle;\n    }\n\n    .dataframe tbody tr th {\n        vertical-align: top;\n    }\n\n    .dataframe thead th {\n        text-align: right;\n    }\n</style>\n<table border=\"1\" class=\"dataframe\">\n  <thead>\n    <tr style=\"text-align: right;\">\n      <th></th>\n      <th>time</th>\n      <th>user_id</th>\n      <th>creative_id</th>\n      <th>click_times</th>\n    </tr>\n  </thead>\n  <tbody>\n    <tr>\n      <th>0</th>\n      <td>20</td>\n      <td>3131989</td>\n      <td>645764</td>\n      <td>1</td>\n    </tr>\n    <tr>\n      <th>1</th>\n      <td>20</td>\n      <td>3131989</td>\n      <td>1027422</td>\n      <td>1</td>\n    </tr>\n    <tr>\n      <th>2</th>\n      <td>20</td>\n      <td>3131989</td>\n      <td>1106443</td>\n      <td>1</td>\n    </tr>\n    <tr>\n      <th>3</th>\n      <td>20</td>\n      <td>3131989</td>\n      <td>629802</td>\n      <td>1</td>\n    </tr>\n    <tr>\n      <th>4</th>\n      <td>59</td>\n      <td>3131989</td>\n      <td>2839769</td>\n      <td>1</td>\n    </tr>\n    <tr>\n      <th>5</th>\n      <td>16</td>\n      <td>3131989</td>\n      <td>564033</td>\n      <td>1</td>\n    </tr>\n    <tr>\n      <th>6</th>\n      <td>17</td>\n      <td>3131989</td>\n      <td>103304</td>\n      <td>1</td>\n    </tr>\n    <tr>\n      <th>7</th>\n      <td>11</td>\n      <td>3131989</td>\n      <td>577903</td>\n      <td>1</td>\n    </tr>\n    <tr>\n      <th>8</th>\n      <td>20</td>\n      <td>3131989</td>\n      <td>103304</td>\n      <td>1</td>\n    </tr>\n    <tr>\n      <th>9</th>\n      <td>16</td>\n      <td>3131989</td>\n      <td>103304</td>\n      <td>1</td>\n    </tr>\n  </tbody>\n</table>\n</div>"
     },
     "metadata": {},
     "execution_count": 47
    }
   ],
   "source": [
    "click_log.head(10)"
   ]
  },
  {
   "cell_type": "code",
   "execution_count": 48,
   "metadata": {},
   "outputs": [],
   "source": [
    "userid=pd.unique(click_log[\"user_id\"])"
   ]
  },
  {
   "cell_type": "code",
   "execution_count": 49,
   "metadata": {},
   "outputs": [
    {
     "output_type": "execute_result",
     "data": {
      "text/plain": "array([3131989, 3131990, 3131994, ..., 3131984, 3131987, 3131988],\n      dtype=int64)"
     },
     "metadata": {},
     "execution_count": 49
    }
   ],
   "source": [
    "userid"
   ]
  },
  {
   "cell_type": "code",
   "execution_count": 50,
   "metadata": {},
   "outputs": [
    {
     "output_type": "execute_result",
     "data": {
      "text/plain": "1000000"
     },
     "metadata": {},
     "execution_count": 50
    }
   ],
   "source": [
    "len(userid)"
   ]
  },
  {
   "cell_type": "code",
   "execution_count": 51,
   "metadata": {},
   "outputs": [
    {
     "output_type": "execute_result",
     "data": {
      "text/plain": "numpy.ndarray"
     },
     "metadata": {},
     "execution_count": 51
    }
   ],
   "source": [
    "type(userid)"
   ]
  },
  {
   "cell_type": "code",
   "execution_count": 52,
   "metadata": {},
   "outputs": [],
   "source": [
    "import random"
   ]
  },
  {
   "cell_type": "code",
   "execution_count": 53,
   "metadata": {},
   "outputs": [],
   "source": [
    "predicted_age=[random.randint(1,10) for i in range(len(userid))]"
   ]
  },
  {
   "cell_type": "code",
   "execution_count": 54,
   "metadata": {},
   "outputs": [],
   "source": [
    "predicted_gender=[random.randint(1,2) for i in range(len(userid))]"
   ]
  },
  {
   "cell_type": "code",
   "execution_count": 55,
   "metadata": {},
   "outputs": [
    {
     "output_type": "execute_result",
     "data": {
      "text/plain": "1000000"
     },
     "metadata": {},
     "execution_count": 55
    }
   ],
   "source": [
    "len(predicted_gender)"
   ]
  },
  {
   "cell_type": "code",
   "execution_count": 56,
   "metadata": {},
   "outputs": [
    {
     "output_type": "execute_result",
     "data": {
      "text/plain": "array([[3131988,       1,       2],\n       [3131987,       2,       2],\n       [3131984,       7,       1],\n       ...,\n       [3131994,       3,       1],\n       [3131990,       3,       2],\n       [3131989,       7,       1]], dtype=int64)"
     },
     "metadata": {},
     "execution_count": 56
    }
   ],
   "source": [
    "data=np.array([userid,predicted_age,predicted_gender])\n",
    "data=np.rot90(data)\n",
    "data"
   ]
  },
  {
   "cell_type": "code",
   "execution_count": 57,
   "metadata": {},
   "outputs": [
    {
     "output_type": "execute_result",
     "data": {
      "text/plain": "numpy.ndarray"
     },
     "metadata": {},
     "execution_count": 57
    }
   ],
   "source": [
    "type(userid)"
   ]
  },
  {
   "cell_type": "code",
   "execution_count": 58,
   "metadata": {},
   "outputs": [
    {
     "output_type": "execute_result",
     "data": {
      "text/plain": "        user_id  predicted_age  predicted_gender\n0       3131988              1                 2\n1       3131987              2                 2\n2       3131984              7                 1\n3       3131983              5                 2\n4       3131979              2                 1\n...         ...            ...               ...\n999995  3132000              2                 2\n999996  3131995              8                 2\n999997  3131994              3                 1\n999998  3131990              3                 2\n999999  3131989              7                 1\n\n[1000000 rows x 3 columns]",
      "text/html": "<div>\n<style scoped>\n    .dataframe tbody tr th:only-of-type {\n        vertical-align: middle;\n    }\n\n    .dataframe tbody tr th {\n        vertical-align: top;\n    }\n\n    .dataframe thead th {\n        text-align: right;\n    }\n</style>\n<table border=\"1\" class=\"dataframe\">\n  <thead>\n    <tr style=\"text-align: right;\">\n      <th></th>\n      <th>user_id</th>\n      <th>predicted_age</th>\n      <th>predicted_gender</th>\n    </tr>\n  </thead>\n  <tbody>\n    <tr>\n      <th>0</th>\n      <td>3131988</td>\n      <td>1</td>\n      <td>2</td>\n    </tr>\n    <tr>\n      <th>1</th>\n      <td>3131987</td>\n      <td>2</td>\n      <td>2</td>\n    </tr>\n    <tr>\n      <th>2</th>\n      <td>3131984</td>\n      <td>7</td>\n      <td>1</td>\n    </tr>\n    <tr>\n      <th>3</th>\n      <td>3131983</td>\n      <td>5</td>\n      <td>2</td>\n    </tr>\n    <tr>\n      <th>4</th>\n      <td>3131979</td>\n      <td>2</td>\n      <td>1</td>\n    </tr>\n    <tr>\n      <th>...</th>\n      <td>...</td>\n      <td>...</td>\n      <td>...</td>\n    </tr>\n    <tr>\n      <th>999995</th>\n      <td>3132000</td>\n      <td>2</td>\n      <td>2</td>\n    </tr>\n    <tr>\n      <th>999996</th>\n      <td>3131995</td>\n      <td>8</td>\n      <td>2</td>\n    </tr>\n    <tr>\n      <th>999997</th>\n      <td>3131994</td>\n      <td>3</td>\n      <td>1</td>\n    </tr>\n    <tr>\n      <th>999998</th>\n      <td>3131990</td>\n      <td>3</td>\n      <td>2</td>\n    </tr>\n    <tr>\n      <th>999999</th>\n      <td>3131989</td>\n      <td>7</td>\n      <td>1</td>\n    </tr>\n  </tbody>\n</table>\n<p>1000000 rows × 3 columns</p>\n</div>"
     },
     "metadata": {},
     "execution_count": 58
    }
   ],
   "source": [
    "submission=pd.DataFrame(data,columns=[\"user_id\",\"predicted_age\",\"predicted_gender\"])\n",
    "submission"
   ]
  },
  {
   "cell_type": "code",
   "execution_count": 59,
   "metadata": {},
   "outputs": [],
   "source": [
    "submission.to_csv(\"./submission.csv\",index=False)"
   ]
  },
  {
   "cell_type": "code",
   "execution_count": null,
   "metadata": {},
   "outputs": [],
   "source": []
  }
 ],
 "metadata": {
  "language_info": {
   "codemirror_mode": {
    "name": "ipython",
    "version": 3
   },
   "file_extension": ".py",
   "mimetype": "text/x-python",
   "name": "python",
   "nbconvert_exporter": "python",
   "pygments_lexer": "ipython3",
   "version": "3.7.3-final"
  },
  "orig_nbformat": 2,
  "kernelspec": {
   "name": "python37364bitb6fd02937a794cd19e20b5ea21c4350f",
   "display_name": "Python 3.7.3 64-bit"
  }
 },
 "nbformat": 4,
 "nbformat_minor": 2
}