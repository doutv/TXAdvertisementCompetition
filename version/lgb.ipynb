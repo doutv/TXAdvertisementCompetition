{
 "cells": [
  {
   "cell_type": "code",
   "execution_count": 13,
   "metadata": {},
   "outputs": [
    {
     "data": {
      "text/plain": [
       "<900000x2533225 sparse matrix of type '<class 'numpy.float64'>'\n",
       "\twith 48745802 stored elements in COOrdinate format>"
      ]
     },
     "metadata": {},
     "output_type": "display_data"
    }
   ],
   "source": [
    "# tf-idf for creative_id and advertiser_id\n",
    "import pandas as pd\n",
    "from sklearn.feature_extraction.text import TfidfVectorizer\n",
    "from scipy import sparse\n",
    "\n",
    "train_merged=pd.read_csv('train_merged.csv')\n",
    "v = TfidfVectorizer(lowercase=False,tokenizer=lambda x:x)\n",
    "\n",
    "creative_id=train_merged.groupby(\"user_id\")[\"creative_id\"].apply(list)\n",
    "creative_id = v.fit_transform(creative_id)\n",
    "advertiser_id=train_merged.groupby(\"user_id\")[\"advertiser_id\"].apply(list)\n",
    "advertiser_id = v.fit_transform(advertiser_id)\n",
    "cr_ad=sparse.hstack((creative_id,advertiser_id),dtype=float)\n",
    "display(cr_ad)\n",
    "sparse.save_npz('cr_ad.npz', cr_ad)"
   ]
  },
  {
   "cell_type": "code",
   "execution_count": 1,
   "metadata": {},
   "outputs": [
    {
     "name": "stdout",
     "output_type": "stream",
     "text": [
      "Looking in indexes: http://mirrors.tencentyun.com/pypi/simple\n",
      "Requirement already satisfied: lightgbm in /opt/conda/envs/tensorflow2_py3/lib/python3.6/site-packages (2.3.1)\n",
      "Requirement already satisfied: scikit-learn in /opt/conda/envs/tensorflow2_py3/lib/python3.6/site-packages (from lightgbm) (0.22.1)\n",
      "Requirement already satisfied: numpy in /opt/conda/envs/tensorflow2_py3/lib/python3.6/site-packages (from lightgbm) (1.18.1)\n",
      "Requirement already satisfied: scipy in /opt/conda/envs/tensorflow2_py3/lib/python3.6/site-packages (from lightgbm) (1.4.1)\n",
      "Requirement already satisfied: joblib>=0.11 in /opt/conda/envs/tensorflow2_py3/lib/python3.6/site-packages (from scikit-learn->lightgbm) (0.14.1)\n"
     ]
    },
    {
     "data": {
      "text/plain": [
       "<900000x2451045 sparse matrix of type '<class 'numpy.float64'>'\n",
       "\twith 10312696 stored elements in COOrdinate format>"
      ]
     },
     "metadata": {},
     "output_type": "display_data"
    },
    {
     "data": {
      "text/plain": [
       "0         0\n",
       "1         0\n",
       "2         1\n",
       "3         0\n",
       "4         0\n",
       "         ..\n",
       "899995    0\n",
       "899996    1\n",
       "899997    1\n",
       "899998    0\n",
       "899999    1\n",
       "Name: gender, Length: 900000, dtype: int64"
      ]
     },
     "metadata": {},
     "output_type": "display_data"
    },
    {
     "data": {
      "text/plain": [
       "<lightgbm.basic.Dataset at 0x7f1da2a39fd0>"
      ]
     },
     "execution_count": 1,
     "metadata": {},
     "output_type": "execute_result"
    }
   ],
   "source": [
    "# predict gender\n",
    "%reset -f\n",
    "# !pip install lightgbm\n",
    "import lightgbm as lgb\n",
    "import pandas as pd\n",
    "from scipy import sparse\n",
    "\n",
    "user_info=pd.read_csv('user_info.csv')\n",
    "creative_matrix=sparse.load_npz('cr_ad.npz')\n",
    "X_train=creative_matrix\n",
    "y_train=user_info[\"gender\"]\n",
    "display(X_train,y_train)\n",
    "train_data = lgb.Dataset(X_train,y_train)\n",
    "train_data.save_binary('gender.bin')"
   ]
  },
  {
   "cell_type": "code",
   "execution_count": 1,
   "metadata": {
    "collapsed": true,
    "jupyter": {
     "outputs_hidden": true
    }
   },
   "outputs": [
    {
     "name": "stdout",
     "output_type": "stream",
     "text": [
      "start cv\n",
      "[1]\tcv_agg's auc: 0.767025 + 0.000449946\n",
      "[2]\tcv_agg's auc: 0.826188 + 0.00121602\n",
      "[3]\tcv_agg's auc: 0.845422 + 0.000863808\n",
      "[4]\tcv_agg's auc: 0.851712 + 0.000605036\n",
      "[5]\tcv_agg's auc: 0.858422 + 0.00167923\n",
      "[6]\tcv_agg's auc: 0.866107 + 0.00223791\n",
      "[7]\tcv_agg's auc: 0.868168 + 0.00215166\n",
      "[8]\tcv_agg's auc: 0.869815 + 0.00173691\n",
      "[9]\tcv_agg's auc: 0.875981 + 0.00172246\n",
      "[10]\tcv_agg's auc: 0.879514 + 0.00162535\n",
      "[11]\tcv_agg's auc: 0.883363 + 0.00181844\n",
      "[12]\tcv_agg's auc: 0.885146 + 0.00141157\n",
      "[13]\tcv_agg's auc: 0.888497 + 0.0013869\n",
      "[14]\tcv_agg's auc: 0.890701 + 0.00106163\n",
      "[15]\tcv_agg's auc: 0.893231 + 0.000907936\n",
      "[16]\tcv_agg's auc: 0.894663 + 0.000914995\n",
      "[17]\tcv_agg's auc: 0.896867 + 0.00099255\n",
      "[18]\tcv_agg's auc: 0.898301 + 0.000900997\n",
      "[19]\tcv_agg's auc: 0.899725 + 0.000639843\n",
      "[20]\tcv_agg's auc: 0.901443 + 0.000951029\n",
      "[21]\tcv_agg's auc: 0.903209 + 0.000805491\n",
      "[22]\tcv_agg's auc: 0.904704 + 0.00076453\n",
      "[23]\tcv_agg's auc: 0.906559 + 0.000772696\n",
      "[24]\tcv_agg's auc: 0.907973 + 0.000716829\n",
      "[25]\tcv_agg's auc: 0.909308 + 0.000457797\n",
      "[26]\tcv_agg's auc: 0.910712 + 0.000642849\n",
      "[27]\tcv_agg's auc: 0.912111 + 0.000626815\n",
      "[28]\tcv_agg's auc: 0.913483 + 0.000607421\n",
      "[29]\tcv_agg's auc: 0.914752 + 0.000481864\n",
      "[30]\tcv_agg's auc: 0.915884 + 0.000480514\n",
      "[31]\tcv_agg's auc: 0.916948 + 0.000452216\n",
      "[32]\tcv_agg's auc: 0.918144 + 0.000421573\n",
      "[33]\tcv_agg's auc: 0.919295 + 0.000562704\n",
      "[34]\tcv_agg's auc: 0.920415 + 0.000544968\n",
      "[35]\tcv_agg's auc: 0.921299 + 0.000504763\n",
      "[36]\tcv_agg's auc: 0.92229 + 0.000538367\n",
      "[37]\tcv_agg's auc: 0.923182 + 0.000608157\n",
      "[38]\tcv_agg's auc: 0.923965 + 0.000601408\n",
      "[39]\tcv_agg's auc: 0.924754 + 0.000624061\n",
      "[40]\tcv_agg's auc: 0.925505 + 0.00060911\n",
      "[41]\tcv_agg's auc: 0.926347 + 0.000560239\n",
      "[42]\tcv_agg's auc: 0.927133 + 0.000570279\n",
      "[43]\tcv_agg's auc: 0.927813 + 0.000540981\n",
      "[44]\tcv_agg's auc: 0.928453 + 0.000536332\n",
      "[45]\tcv_agg's auc: 0.929041 + 0.000545101\n",
      "[46]\tcv_agg's auc: 0.929601 + 0.000456048\n",
      "[47]\tcv_agg's auc: 0.930151 + 0.000441367\n",
      "[48]\tcv_agg's auc: 0.930651 + 0.000365541\n",
      "[49]\tcv_agg's auc: 0.931257 + 0.000328497\n",
      "[50]\tcv_agg's auc: 0.931866 + 0.000336656\n",
      "[51]\tcv_agg's auc: 0.932403 + 0.000335198\n",
      "[52]\tcv_agg's auc: 0.932938 + 0.000334445\n",
      "[53]\tcv_agg's auc: 0.933414 + 0.00030456\n",
      "[54]\tcv_agg's auc: 0.933961 + 0.000285146\n",
      "[55]\tcv_agg's auc: 0.93442 + 0.000295166\n",
      "[56]\tcv_agg's auc: 0.934923 + 0.000275217\n",
      "[57]\tcv_agg's auc: 0.935376 + 0.000279849\n",
      "[58]\tcv_agg's auc: 0.935717 + 0.000276379\n",
      "[59]\tcv_agg's auc: 0.936133 + 0.000274938\n",
      "[60]\tcv_agg's auc: 0.936574 + 0.000257968\n",
      "[61]\tcv_agg's auc: 0.936973 + 0.000254252\n",
      "[62]\tcv_agg's auc: 0.937404 + 0.000264779\n",
      "[63]\tcv_agg's auc: 0.937816 + 0.000264081\n",
      "[64]\tcv_agg's auc: 0.938246 + 0.000246008\n",
      "[65]\tcv_agg's auc: 0.938591 + 0.000256666\n",
      "[66]\tcv_agg's auc: 0.938949 + 0.000248159\n",
      "[67]\tcv_agg's auc: 0.939236 + 0.000289883\n",
      "[68]\tcv_agg's auc: 0.939532 + 0.000292672\n",
      "[69]\tcv_agg's auc: 0.939908 + 0.000310584\n",
      "[70]\tcv_agg's auc: 0.940263 + 0.000271575\n",
      "[71]\tcv_agg's auc: 0.940586 + 0.000261754\n"
     ]
    },
    {
     "ename": "KeyboardInterrupt",
     "evalue": "",
     "output_type": "error",
     "traceback": [
      "\u001b[0;31m---------------------------------------------------------------------------\u001b[0m",
      "\u001b[0;31mKeyboardInterrupt\u001b[0m                         Traceback (most recent call last)",
      "\u001b[0;32m<ipython-input-1-b06735a6d6e8>\u001b[0m in \u001b[0;36m<module>\u001b[0;34m\u001b[0m\n\u001b[1;32m     21\u001b[0m cv_results = lgb.cv(\n\u001b[1;32m     22\u001b[0m     \u001b[0mlgb_params\u001b[0m\u001b[0;34m,\u001b[0m \u001b[0mtrain_data\u001b[0m\u001b[0;34m,\u001b[0m \u001b[0mnum_boost_round\u001b[0m\u001b[0;34m=\u001b[0m\u001b[0;36m1000\u001b[0m\u001b[0;34m,\u001b[0m \u001b[0mnfold\u001b[0m\u001b[0;34m=\u001b[0m\u001b[0;36m5\u001b[0m\u001b[0;34m,\u001b[0m \u001b[0mshuffle\u001b[0m\u001b[0;34m=\u001b[0m\u001b[0;32mTrue\u001b[0m\u001b[0;34m,\u001b[0m\u001b[0;34m\u001b[0m\u001b[0m\n\u001b[0;32m---> 23\u001b[0;31m     verbose_eval=1, show_stdv=True)\n\u001b[0m",
      "\u001b[0;32m/opt/conda/envs/tensorflow2_py3/lib/python3.6/site-packages/lightgbm/engine.py\u001b[0m in \u001b[0;36mcv\u001b[0;34m(params, train_set, num_boost_round, folds, nfold, stratified, shuffle, metrics, fobj, feval, init_model, feature_name, categorical_feature, early_stopping_rounds, fpreproc, verbose_eval, show_stdv, seed, callbacks, eval_train_metric)\u001b[0m\n\u001b[1;32m    562\u001b[0m                                     \u001b[0mend_iteration\u001b[0m\u001b[0;34m=\u001b[0m\u001b[0mnum_boost_round\u001b[0m\u001b[0;34m,\u001b[0m\u001b[0;34m\u001b[0m\u001b[0m\n\u001b[1;32m    563\u001b[0m                                     evaluation_result_list=None))\n\u001b[0;32m--> 564\u001b[0;31m         \u001b[0mcvfolds\u001b[0m\u001b[0;34m.\u001b[0m\u001b[0mupdate\u001b[0m\u001b[0;34m(\u001b[0m\u001b[0mfobj\u001b[0m\u001b[0;34m=\u001b[0m\u001b[0mfobj\u001b[0m\u001b[0;34m)\u001b[0m\u001b[0;34m\u001b[0m\u001b[0m\n\u001b[0m\u001b[1;32m    565\u001b[0m         \u001b[0mres\u001b[0m \u001b[0;34m=\u001b[0m \u001b[0m_agg_cv_result\u001b[0m\u001b[0;34m(\u001b[0m\u001b[0mcvfolds\u001b[0m\u001b[0;34m.\u001b[0m\u001b[0meval_valid\u001b[0m\u001b[0;34m(\u001b[0m\u001b[0mfeval\u001b[0m\u001b[0;34m)\u001b[0m\u001b[0;34m,\u001b[0m \u001b[0meval_train_metric\u001b[0m\u001b[0;34m)\u001b[0m\u001b[0;34m\u001b[0m\u001b[0m\n\u001b[1;32m    566\u001b[0m         \u001b[0;32mfor\u001b[0m \u001b[0m_\u001b[0m\u001b[0;34m,\u001b[0m \u001b[0mkey\u001b[0m\u001b[0;34m,\u001b[0m \u001b[0mmean\u001b[0m\u001b[0;34m,\u001b[0m \u001b[0m_\u001b[0m\u001b[0;34m,\u001b[0m \u001b[0mstd\u001b[0m \u001b[0;32min\u001b[0m \u001b[0mres\u001b[0m\u001b[0;34m:\u001b[0m\u001b[0;34m\u001b[0m\u001b[0m\n",
      "\u001b[0;32m/opt/conda/envs/tensorflow2_py3/lib/python3.6/site-packages/lightgbm/engine.py\u001b[0m in \u001b[0;36mhandler_function\u001b[0;34m(*args, **kwargs)\u001b[0m\n\u001b[1;32m    292\u001b[0m             \u001b[0mret\u001b[0m \u001b[0;34m=\u001b[0m \u001b[0;34m[\u001b[0m\u001b[0;34m]\u001b[0m\u001b[0;34m\u001b[0m\u001b[0m\n\u001b[1;32m    293\u001b[0m             \u001b[0;32mfor\u001b[0m \u001b[0mbooster\u001b[0m \u001b[0;32min\u001b[0m \u001b[0mself\u001b[0m\u001b[0;34m.\u001b[0m\u001b[0mboosters\u001b[0m\u001b[0;34m:\u001b[0m\u001b[0;34m\u001b[0m\u001b[0m\n\u001b[0;32m--> 294\u001b[0;31m                 \u001b[0mret\u001b[0m\u001b[0;34m.\u001b[0m\u001b[0mappend\u001b[0m\u001b[0;34m(\u001b[0m\u001b[0mgetattr\u001b[0m\u001b[0;34m(\u001b[0m\u001b[0mbooster\u001b[0m\u001b[0;34m,\u001b[0m \u001b[0mname\u001b[0m\u001b[0;34m)\u001b[0m\u001b[0;34m(\u001b[0m\u001b[0;34m*\u001b[0m\u001b[0margs\u001b[0m\u001b[0;34m,\u001b[0m \u001b[0;34m**\u001b[0m\u001b[0mkwargs\u001b[0m\u001b[0;34m)\u001b[0m\u001b[0;34m)\u001b[0m\u001b[0;34m\u001b[0m\u001b[0m\n\u001b[0m\u001b[1;32m    295\u001b[0m             \u001b[0;32mreturn\u001b[0m \u001b[0mret\u001b[0m\u001b[0;34m\u001b[0m\u001b[0m\n\u001b[1;32m    296\u001b[0m         \u001b[0;32mreturn\u001b[0m \u001b[0mhandler_function\u001b[0m\u001b[0;34m\u001b[0m\u001b[0m\n",
      "\u001b[0;32m/opt/conda/envs/tensorflow2_py3/lib/python3.6/site-packages/lightgbm/basic.py\u001b[0m in \u001b[0;36mupdate\u001b[0;34m(self, train_set, fobj)\u001b[0m\n\u001b[1;32m   1974\u001b[0m             _safe_call(_LIB.LGBM_BoosterUpdateOneIter(\n\u001b[1;32m   1975\u001b[0m                 \u001b[0mself\u001b[0m\u001b[0;34m.\u001b[0m\u001b[0mhandle\u001b[0m\u001b[0;34m,\u001b[0m\u001b[0;34m\u001b[0m\u001b[0m\n\u001b[0;32m-> 1976\u001b[0;31m                 ctypes.byref(is_finished)))\n\u001b[0m\u001b[1;32m   1977\u001b[0m             \u001b[0mself\u001b[0m\u001b[0;34m.\u001b[0m\u001b[0m__is_predicted_cur_iter\u001b[0m \u001b[0;34m=\u001b[0m \u001b[0;34m[\u001b[0m\u001b[0;32mFalse\u001b[0m \u001b[0;32mfor\u001b[0m \u001b[0m_\u001b[0m \u001b[0;32min\u001b[0m \u001b[0mrange_\u001b[0m\u001b[0;34m(\u001b[0m\u001b[0mself\u001b[0m\u001b[0;34m.\u001b[0m\u001b[0m__num_dataset\u001b[0m\u001b[0;34m)\u001b[0m\u001b[0;34m]\u001b[0m\u001b[0;34m\u001b[0m\u001b[0m\n\u001b[1;32m   1978\u001b[0m             \u001b[0;32mreturn\u001b[0m \u001b[0mis_finished\u001b[0m\u001b[0;34m.\u001b[0m\u001b[0mvalue\u001b[0m \u001b[0;34m==\u001b[0m \u001b[0;36m1\u001b[0m\u001b[0;34m\u001b[0m\u001b[0m\n",
      "\u001b[0;31mKeyboardInterrupt\u001b[0m: "
     ]
    }
   ],
   "source": [
    "%reset -f\n",
    "# !pip install lightgbm\n",
    "import lightgbm as lgb\n",
    "import pandas as pd\n",
    "\n",
    "train_data = lgb.Dataset('gender.bin')\n",
    "lgb_params = {'num_leaves': 2**5-1,\n",
    "              'min_data_in_leaf': 25, \n",
    "              'objective':'binary',\n",
    "              'max_depth': -1,\n",
    "              'learning_rate': 0.1,\n",
    "              'boosting': 'gbdt',\n",
    "              'feature_fraction': 0.6,\n",
    "              'bagging_fraction': 0.9,\n",
    "              'bagging_seed': 11,\n",
    "              'metric': 'auc',\n",
    "              'seed':1024,\n",
    "              'nthread':12,\n",
    "             }\n",
    "print(\"start cv\")\n",
    "cv_results = lgb.cv(\n",
    "    lgb_params, train_data, num_boost_round=1000, nfold=5, shuffle=True,\n",
    "    verbose_eval=1, show_stdv=True)"
   ]
  },
  {
   "cell_type": "markdown",
   "metadata": {},
   "source": [
    "# using test data to train"
   ]
  },
  {
   "cell_type": "code",
   "execution_count": 1,
   "metadata": {},
   "outputs": [
    {
     "data": {
      "text/plain": [
       "<1000000x2671020 sparse matrix of type '<class 'numpy.float64'>'\n",
       "\twith 54252557 stored elements in COOrdinate format>"
      ]
     },
     "metadata": {},
     "output_type": "display_data"
    }
   ],
   "source": [
    "# predict gender\n",
    "# tf-idf for creative_id\n",
    "import pandas as pd\n",
    "from sklearn.feature_extraction.text import TfidfVectorizer\n",
    "from scipy import sparse\n",
    "\n",
    "predict_merged=pd.read_csv('predict_merged.csv')\n",
    "v = TfidfVectorizer(lowercase=False,tokenizer=lambda x:x)\n",
    "\n",
    "creative_id=predict_merged.groupby(\"user_id\")[\"creative_id\"].apply(list)\n",
    "creative_id = v.fit_transform(creative_id)\n",
    "advertiser_id=predict_merged.groupby(\"user_id\")[\"advertiser_id\"].apply(list)\n",
    "advertiser_id = v.fit_transform(advertiser_id)\n",
    "pred_cr_ad=sparse.hstack((creative_id,advertiser_id),dtype=float)\n",
    "display(pred_cr_ad)\n",
    "sparse.save_npz('pred_cr_ad.npz', pred_cr_ad)"
   ]
  },
  {
   "cell_type": "code",
   "execution_count": null,
   "metadata": {},
   "outputs": [
    {
     "data": {
      "text/plain": [
       "(900000, 2533225)"
      ]
     },
     "metadata": {},
     "output_type": "display_data"
    },
    {
     "data": {
      "text/plain": [
       "(1000000, 2671020)"
      ]
     },
     "metadata": {},
     "output_type": "display_data"
    },
    {
     "data": {
      "text/plain": [
       "<900000x2671020 sparse matrix of type '<class 'numpy.float64'>'\n",
       "\twith 48745802 stored elements in Compressed Sparse Row format>"
      ]
     },
     "metadata": {},
     "output_type": "display_data"
    },
    {
     "data": {
      "text/plain": [
       "<1000000x2671020 sparse matrix of type '<class 'numpy.float64'>'\n",
       "\twith 54252557 stored elements in COOrdinate format>"
      ]
     },
     "metadata": {},
     "output_type": "display_data"
    },
    {
     "name": "stdout",
     "output_type": "stream",
     "text": [
      "fold n°1\n"
     ]
    },
    {
     "data": {
      "text/plain": [
       "array([180000, 180001, 180002, ..., 899997, 899998, 899999])"
      ]
     },
     "metadata": {},
     "output_type": "display_data"
    },
    {
     "data": {
      "text/plain": [
       "array([     0,      1,      2, ..., 179997, 179998, 179999])"
      ]
     },
     "metadata": {},
     "output_type": "display_data"
    },
    {
     "data": {
      "text/plain": [
       "<720000x2671020 sparse matrix of type '<class 'numpy.float64'>'\n",
       "\twith 38976904 stored elements in Compressed Sparse Row format>"
      ]
     },
     "metadata": {},
     "output_type": "display_data"
    },
    {
     "data": {
      "text/plain": [
       "<180000x2671020 sparse matrix of type '<class 'numpy.float64'>'\n",
       "\twith 9768898 stored elements in Compressed Sparse Row format>"
      ]
     },
     "metadata": {},
     "output_type": "display_data"
    },
    {
     "name": "stdout",
     "output_type": "stream",
     "text": [
      "Training until validation scores don't improve for 100 rounds\n",
      "[10]\ttraining's auc: 0.909821\tvalid_1's auc: 0.910172\n",
      "[20]\ttraining's auc: 0.924725\tvalid_1's auc: 0.924882\n",
      "[30]\ttraining's auc: 0.934234\tvalid_1's auc: 0.934138\n",
      "[40]\ttraining's auc: 0.941677\tvalid_1's auc: 0.941305\n",
      "[50]\ttraining's auc: 0.9465\tvalid_1's auc: 0.945752\n",
      "[60]\ttraining's auc: 0.950246\tvalid_1's auc: 0.949248\n",
      "[70]\ttraining's auc: 0.952991\tvalid_1's auc: 0.951749\n",
      "[80]\ttraining's auc: 0.955196\tvalid_1's auc: 0.953701\n",
      "[90]\ttraining's auc: 0.956982\tvalid_1's auc: 0.955238\n",
      "[100]\ttraining's auc: 0.958456\tvalid_1's auc: 0.956502\n",
      "[110]\ttraining's auc: 0.959724\tvalid_1's auc: 0.957571\n",
      "[120]\ttraining's auc: 0.960828\tvalid_1's auc: 0.958472\n",
      "[130]\ttraining's auc: 0.961797\tvalid_1's auc: 0.959282\n",
      "[140]\ttraining's auc: 0.962688\tvalid_1's auc: 0.959975\n",
      "[150]\ttraining's auc: 0.963484\tvalid_1's auc: 0.960547\n",
      "[160]\ttraining's auc: 0.964223\tvalid_1's auc: 0.961086\n",
      "[170]\ttraining's auc: 0.964903\tvalid_1's auc: 0.961603\n",
      "[180]\ttraining's auc: 0.965562\tvalid_1's auc: 0.962047\n",
      "[190]\ttraining's auc: 0.966175\tvalid_1's auc: 0.962482\n",
      "[200]\ttraining's auc: 0.966745\tvalid_1's auc: 0.962864\n",
      "Did not meet early stopping. Best iteration is:\n",
      "[200]\ttraining's auc: 0.966745\tvalid_1's auc: 0.962864\n"
     ]
    },
    {
     "name": "stderr",
     "output_type": "stream",
     "text": [
      "/opt/conda/envs/tensorflow2_py3/lib/python3.6/site-packages/lightgbm/basic.py:546: UserWarning: Converting data to scipy sparse matrix.\n",
      "  warnings.warn('Converting data to scipy sparse matrix.')\n"
     ]
    },
    {
     "data": {
      "text/plain": [
       "array([0.07007319, 0.07007319, 0.07007319, ..., 0.07007319, 0.07007319,\n",
       "       0.07007319])"
      ]
     },
     "metadata": {},
     "output_type": "display_data"
    },
    {
     "name": "stdout",
     "output_type": "stream",
     "text": [
      "fold n°2\n"
     ]
    },
    {
     "data": {
      "text/plain": [
       "array([     0,      1,      2, ..., 899997, 899998, 899999])"
      ]
     },
     "metadata": {},
     "output_type": "display_data"
    },
    {
     "data": {
      "text/plain": [
       "array([180000, 180001, 180002, ..., 359997, 359998, 359999])"
      ]
     },
     "metadata": {},
     "output_type": "display_data"
    },
    {
     "data": {
      "text/plain": [
       "<720000x2671020 sparse matrix of type '<class 'numpy.float64'>'\n",
       "\twith 38999058 stored elements in Compressed Sparse Row format>"
      ]
     },
     "metadata": {},
     "output_type": "display_data"
    },
    {
     "data": {
      "text/plain": [
       "<180000x2671020 sparse matrix of type '<class 'numpy.float64'>'\n",
       "\twith 9746744 stored elements in Compressed Sparse Row format>"
      ]
     },
     "metadata": {},
     "output_type": "display_data"
    },
    {
     "name": "stdout",
     "output_type": "stream",
     "text": [
      "Training until validation scores don't improve for 100 rounds\n",
      "[10]\ttraining's auc: 0.909612\tvalid_1's auc: 0.908591\n",
      "[20]\ttraining's auc: 0.92403\tvalid_1's auc: 0.922731\n",
      "[30]\ttraining's auc: 0.934333\tvalid_1's auc: 0.932872\n",
      "[40]\ttraining's auc: 0.941489\tvalid_1's auc: 0.939875\n",
      "[50]\ttraining's auc: 0.946518\tvalid_1's auc: 0.944722\n",
      "[60]\ttraining's auc: 0.950196\tvalid_1's auc: 0.94821\n",
      "[70]\ttraining's auc: 0.953021\tvalid_1's auc: 0.950828\n",
      "[80]\ttraining's auc: 0.955248\tvalid_1's auc: 0.952884\n",
      "[90]\ttraining's auc: 0.957069\tvalid_1's auc: 0.954512\n",
      "[100]\ttraining's auc: 0.958555\tvalid_1's auc: 0.95585\n",
      "[110]\ttraining's auc: 0.959816\tvalid_1's auc: 0.956976\n",
      "[120]\ttraining's auc: 0.960933\tvalid_1's auc: 0.957938\n",
      "[130]\ttraining's auc: 0.961914\tvalid_1's auc: 0.958732\n",
      "[140]\ttraining's auc: 0.962797\tvalid_1's auc: 0.959458\n",
      "[150]\ttraining's auc: 0.963614\tvalid_1's auc: 0.960052\n",
      "[160]\ttraining's auc: 0.964328\tvalid_1's auc: 0.96061\n",
      "[170]\ttraining's auc: 0.965049\tvalid_1's auc: 0.961104\n",
      "[180]\ttraining's auc: 0.965705\tvalid_1's auc: 0.961566\n",
      "[190]\ttraining's auc: 0.966279\tvalid_1's auc: 0.961975\n",
      "[200]\ttraining's auc: 0.966849\tvalid_1's auc: 0.962361\n",
      "Did not meet early stopping. Best iteration is:\n",
      "[200]\ttraining's auc: 0.966849\tvalid_1's auc: 0.962361\n"
     ]
    },
    {
     "data": {
      "text/plain": [
       "array([0.14137402, 0.14137402, 0.14137402, ..., 0.14137402, 0.14137402,\n",
       "       0.14137402])"
      ]
     },
     "metadata": {},
     "output_type": "display_data"
    },
    {
     "name": "stdout",
     "output_type": "stream",
     "text": [
      "fold n°3\n"
     ]
    },
    {
     "data": {
      "text/plain": [
       "array([     0,      1,      2, ..., 899997, 899998, 899999])"
      ]
     },
     "metadata": {},
     "output_type": "display_data"
    },
    {
     "data": {
      "text/plain": [
       "array([360000, 360001, 360002, ..., 539997, 539998, 539999])"
      ]
     },
     "metadata": {},
     "output_type": "display_data"
    },
    {
     "data": {
      "text/plain": [
       "<720000x2671020 sparse matrix of type '<class 'numpy.float64'>'\n",
       "\twith 39011193 stored elements in Compressed Sparse Row format>"
      ]
     },
     "metadata": {},
     "output_type": "display_data"
    },
    {
     "data": {
      "text/plain": [
       "<180000x2671020 sparse matrix of type '<class 'numpy.float64'>'\n",
       "\twith 9734609 stored elements in Compressed Sparse Row format>"
      ]
     },
     "metadata": {},
     "output_type": "display_data"
    },
    {
     "name": "stdout",
     "output_type": "stream",
     "text": [
      "Training until validation scores don't improve for 100 rounds\n",
      "[10]\ttraining's auc: 0.910524\tvalid_1's auc: 0.911522\n",
      "[20]\ttraining's auc: 0.924011\tvalid_1's auc: 0.924559\n",
      "[30]\ttraining's auc: 0.934351\tvalid_1's auc: 0.934544\n",
      "[40]\ttraining's auc: 0.941505\tvalid_1's auc: 0.941416\n",
      "[50]\ttraining's auc: 0.946449\tvalid_1's auc: 0.946085\n",
      "[60]\ttraining's auc: 0.950124\tvalid_1's auc: 0.949503\n",
      "[70]\ttraining's auc: 0.952827\tvalid_1's auc: 0.951967\n",
      "[80]\ttraining's auc: 0.955037\tvalid_1's auc: 0.953981\n",
      "[90]\ttraining's auc: 0.956805\tvalid_1's auc: 0.955575\n",
      "[100]\ttraining's auc: 0.958309\tvalid_1's auc: 0.956843\n",
      "[110]\ttraining's auc: 0.959589\tvalid_1's auc: 0.957961\n",
      "[120]\ttraining's auc: 0.960703\tvalid_1's auc: 0.958874\n",
      "[130]\ttraining's auc: 0.961669\tvalid_1's auc: 0.959648\n",
      "[140]\ttraining's auc: 0.962529\tvalid_1's auc: 0.960328\n",
      "[150]\ttraining's auc: 0.963337\tvalid_1's auc: 0.960893\n",
      "[160]\ttraining's auc: 0.964074\tvalid_1's auc: 0.961483\n",
      "[170]\ttraining's auc: 0.964778\tvalid_1's auc: 0.961989\n",
      "[180]\ttraining's auc: 0.965422\tvalid_1's auc: 0.962435\n",
      "[190]\ttraining's auc: 0.966033\tvalid_1's auc: 0.962841\n",
      "[200]\ttraining's auc: 0.966582\tvalid_1's auc: 0.963209\n",
      "Did not meet early stopping. Best iteration is:\n",
      "[200]\ttraining's auc: 0.966582\tvalid_1's auc: 0.963209\n"
     ]
    },
    {
     "data": {
      "text/plain": [
       "array([0.21199982, 0.21199982, 0.21199982, ..., 0.21199982, 0.21199982,\n",
       "       0.21199982])"
      ]
     },
     "metadata": {},
     "output_type": "display_data"
    },
    {
     "name": "stdout",
     "output_type": "stream",
     "text": [
      "fold n°4\n"
     ]
    },
    {
     "data": {
      "text/plain": [
       "array([     0,      1,      2, ..., 899997, 899998, 899999])"
      ]
     },
     "metadata": {},
     "output_type": "display_data"
    },
    {
     "data": {
      "text/plain": [
       "array([540000, 540001, 540002, ..., 719997, 719998, 719999])"
      ]
     },
     "metadata": {},
     "output_type": "display_data"
    },
    {
     "data": {
      "text/plain": [
       "<720000x2671020 sparse matrix of type '<class 'numpy.float64'>'\n",
       "\twith 38998989 stored elements in Compressed Sparse Row format>"
      ]
     },
     "metadata": {},
     "output_type": "display_data"
    },
    {
     "data": {
      "text/plain": [
       "<180000x2671020 sparse matrix of type '<class 'numpy.float64'>'\n",
       "\twith 9746813 stored elements in Compressed Sparse Row format>"
      ]
     },
     "metadata": {},
     "output_type": "display_data"
    },
    {
     "name": "stdout",
     "output_type": "stream",
     "text": [
      "Training until validation scores don't improve for 100 rounds\n",
      "[10]\ttraining's auc: 0.911609\tvalid_1's auc: 0.910397\n",
      "[20]\ttraining's auc: 0.924172\tvalid_1's auc: 0.92315\n",
      "[30]\ttraining's auc: 0.934208\tvalid_1's auc: 0.932896\n",
      "[40]\ttraining's auc: 0.941389\tvalid_1's auc: 0.939887\n"
     ]
    }
   ],
   "source": [
    "# predict gender\n",
    "%reset -f\n",
    "# !pip install lightgbm\n",
    "import lightgbm as lgb\n",
    "import pandas as pd\n",
    "from scipy import sparse\n",
    "from sklearn.model_selection import KFold\n",
    "import numpy as np\n",
    "\n",
    "user_info=pd.read_csv(\"user_info.csv\")\n",
    "X_train=sparse.load_npz('cr_ad.npz')\n",
    "y_train=user_info[\"gender\"]\n",
    "X_test=sparse.load_npz('pred_cr_ad.npz')\n",
    "display(X_train.shape,X_test.shape)\n",
    "diff=X_test.shape[1]-X_train.shape[1]\n",
    "zero_matrix=sparse.csr_matrix((X_train.shape[0],diff))\n",
    "X_train=sparse.hstack((X_train,zero_matrix)).tocsr()\n",
    "display(X_train,X_test)\n",
    "predictions = np.zeros(X_test.shape[0])\n",
    "\n",
    "folds = KFold(n_splits=5, shuffle=False)\n",
    "\n",
    "for fold_, (trn_idx, val_idx) in enumerate(folds.split(X_train, y_train)):\n",
    "    print(\"fold n°{}\".format(fold_+1))\n",
    "    display(trn_idx,val_idx)\n",
    "    trn_data_X_train=X_train.tocsr()[trn_idx,:]\n",
    "    val_data_X_train=X_train.tocsr()[val_idx,:]\n",
    "    display(trn_data_X_train,val_data_X_train)\n",
    "    trn_data = lgb.Dataset(trn_data_X_train, y_train.iloc[trn_idx])\n",
    "    val_data = lgb.Dataset(val_data_X_train, y_train.iloc[val_idx])\n",
    "    \n",
    "    lgb_params = {'num_leaves': 2**6-1,\n",
    "              'min_data_in_leaf': 25, \n",
    "              'objective':'binary',\n",
    "              'max_depth': -1,\n",
    "              'learning_rate': 0.1,\n",
    "              'boosting': 'gbdt',\n",
    "              'feature_fraction': 0.6,\n",
    "              'bagging_fraction': 0.9,\n",
    "              'bagging_seed': 11,\n",
    "              'metric': 'auc',\n",
    "              'seed':1024,\n",
    "              'nthread':12,\n",
    "             }\n",
    "    model = lgb.train(lgb_params, \n",
    "                    trn_data,\n",
    "                    num_boost_round=200, \n",
    "                    valid_sets = [trn_data, val_data], \n",
    "                    verbose_eval = 10, \n",
    "                    early_stopping_rounds = 100)\n",
    "#     display(model.predict(X_test, num_iteration=model.best_iteration) / folds.n_splits)\n",
    "    predictions += model.predict(X_test, num_iteration=model.best_iteration) / folds.n_splits\n",
    "    display(predictions)\n",
    "\n",
    "display(predictions)"
   ]
  },
  {
   "cell_type": "code",
   "execution_count": 7,
   "metadata": {},
   "outputs": [],
   "source": [
    "df=pd.DataFrame(predictions,columns=[\"gender\"])"
   ]
  },
  {
   "cell_type": "code",
   "execution_count": 9,
   "metadata": {},
   "outputs": [
    {
     "data": {
      "text/html": [
       "<div>\n",
       "<style scoped>\n",
       "    .dataframe tbody tr th:only-of-type {\n",
       "        vertical-align: middle;\n",
       "    }\n",
       "\n",
       "    .dataframe tbody tr th {\n",
       "        vertical-align: top;\n",
       "    }\n",
       "\n",
       "    .dataframe thead th {\n",
       "        text-align: right;\n",
       "    }\n",
       "</style>\n",
       "<table border=\"1\" class=\"dataframe\">\n",
       "  <thead>\n",
       "    <tr style=\"text-align: right;\">\n",
       "      <th></th>\n",
       "      <th>gender</th>\n",
       "    </tr>\n",
       "  </thead>\n",
       "  <tbody>\n",
       "    <tr>\n",
       "      <th>50</th>\n",
       "      <td>0.649246</td>\n",
       "    </tr>\n",
       "    <tr>\n",
       "      <th>244</th>\n",
       "      <td>0.700756</td>\n",
       "    </tr>\n",
       "    <tr>\n",
       "      <th>1948</th>\n",
       "      <td>0.675952</td>\n",
       "    </tr>\n",
       "    <tr>\n",
       "      <th>2091</th>\n",
       "      <td>0.502977</td>\n",
       "    </tr>\n",
       "    <tr>\n",
       "      <th>2185</th>\n",
       "      <td>0.503331</td>\n",
       "    </tr>\n",
       "    <tr>\n",
       "      <th>...</th>\n",
       "      <td>...</td>\n",
       "    </tr>\n",
       "    <tr>\n",
       "      <th>998902</th>\n",
       "      <td>0.507344</td>\n",
       "    </tr>\n",
       "    <tr>\n",
       "      <th>998940</th>\n",
       "      <td>0.633742</td>\n",
       "    </tr>\n",
       "    <tr>\n",
       "      <th>999070</th>\n",
       "      <td>0.501990</td>\n",
       "    </tr>\n",
       "    <tr>\n",
       "      <th>999091</th>\n",
       "      <td>0.856675</td>\n",
       "    </tr>\n",
       "    <tr>\n",
       "      <th>999545</th>\n",
       "      <td>0.502977</td>\n",
       "    </tr>\n",
       "  </tbody>\n",
       "</table>\n",
       "<p>2548 rows × 1 columns</p>\n",
       "</div>"
      ],
      "text/plain": [
       "          gender\n",
       "50      0.649246\n",
       "244     0.700756\n",
       "1948    0.675952\n",
       "2091    0.502977\n",
       "2185    0.503331\n",
       "...          ...\n",
       "998902  0.507344\n",
       "998940  0.633742\n",
       "999070  0.501990\n",
       "999091  0.856675\n",
       "999545  0.502977\n",
       "\n",
       "[2548 rows x 1 columns]"
      ]
     },
     "execution_count": 9,
     "metadata": {},
     "output_type": "execute_result"
    }
   ],
   "source": [
    "df[df.gender>=0.5]"
   ]
  },
  {
   "cell_type": "code",
   "execution_count": 10,
   "metadata": {},
   "outputs": [],
   "source": [
    "submission=(df>0.5)*1"
   ]
  },
  {
   "cell_type": "code",
   "execution_count": 21,
   "metadata": {
    "collapsed": true,
    "jupyter": {
     "outputs_hidden": true
    }
   },
   "outputs": [
    {
     "data": {
      "text/html": [
       "<div>\n",
       "<style scoped>\n",
       "    .dataframe tbody tr th:only-of-type {\n",
       "        vertical-align: middle;\n",
       "    }\n",
       "\n",
       "    .dataframe tbody tr th {\n",
       "        vertical-align: top;\n",
       "    }\n",
       "\n",
       "    .dataframe thead th {\n",
       "        text-align: right;\n",
       "    }\n",
       "</style>\n",
       "<table border=\"1\" class=\"dataframe\">\n",
       "  <thead>\n",
       "    <tr style=\"text-align: right;\">\n",
       "      <th></th>\n",
       "      <th>gender</th>\n",
       "      <th>user_id</th>\n",
       "      <th>age</th>\n",
       "    </tr>\n",
       "  </thead>\n",
       "  <tbody>\n",
       "    <tr>\n",
       "      <th>0</th>\n",
       "      <td>1</td>\n",
       "      <td>3000001</td>\n",
       "      <td>1</td>\n",
       "    </tr>\n",
       "    <tr>\n",
       "      <th>1</th>\n",
       "      <td>1</td>\n",
       "      <td>3000002</td>\n",
       "      <td>1</td>\n",
       "    </tr>\n",
       "    <tr>\n",
       "      <th>2</th>\n",
       "      <td>1</td>\n",
       "      <td>3000003</td>\n",
       "      <td>1</td>\n",
       "    </tr>\n",
       "    <tr>\n",
       "      <th>3</th>\n",
       "      <td>1</td>\n",
       "      <td>3000004</td>\n",
       "      <td>1</td>\n",
       "    </tr>\n",
       "    <tr>\n",
       "      <th>4</th>\n",
       "      <td>1</td>\n",
       "      <td>3000005</td>\n",
       "      <td>1</td>\n",
       "    </tr>\n",
       "    <tr>\n",
       "      <th>...</th>\n",
       "      <td>...</td>\n",
       "      <td>...</td>\n",
       "      <td>...</td>\n",
       "    </tr>\n",
       "    <tr>\n",
       "      <th>999995</th>\n",
       "      <td>1</td>\n",
       "      <td>3999996</td>\n",
       "      <td>1</td>\n",
       "    </tr>\n",
       "    <tr>\n",
       "      <th>999996</th>\n",
       "      <td>1</td>\n",
       "      <td>3999997</td>\n",
       "      <td>1</td>\n",
       "    </tr>\n",
       "    <tr>\n",
       "      <th>999997</th>\n",
       "      <td>1</td>\n",
       "      <td>3999998</td>\n",
       "      <td>1</td>\n",
       "    </tr>\n",
       "    <tr>\n",
       "      <th>999998</th>\n",
       "      <td>1</td>\n",
       "      <td>3999999</td>\n",
       "      <td>1</td>\n",
       "    </tr>\n",
       "    <tr>\n",
       "      <th>999999</th>\n",
       "      <td>1</td>\n",
       "      <td>4000000</td>\n",
       "      <td>1</td>\n",
       "    </tr>\n",
       "  </tbody>\n",
       "</table>\n",
       "<p>1000000 rows × 3 columns</p>\n",
       "</div>"
      ],
      "text/plain": [
       "        gender  user_id  age\n",
       "0            1  3000001    1\n",
       "1            1  3000002    1\n",
       "2            1  3000003    1\n",
       "3            1  3000004    1\n",
       "4            1  3000005    1\n",
       "...        ...      ...  ...\n",
       "999995       1  3999996    1\n",
       "999996       1  3999997    1\n",
       "999997       1  3999998    1\n",
       "999998       1  3999999    1\n",
       "999999       1  4000000    1\n",
       "\n",
       "[1000000 rows x 3 columns]"
      ]
     },
     "execution_count": 21,
     "metadata": {},
     "output_type": "execute_result"
    }
   ],
   "source": [
    "submission"
   ]
  },
  {
   "cell_type": "code",
   "execution_count": 22,
   "metadata": {},
   "outputs": [],
   "source": [
    "submission[\"gender\"]=[0 for i in range(3000001,4000001)]"
   ]
  },
  {
   "cell_type": "code",
   "execution_count": 25,
   "metadata": {},
   "outputs": [],
   "source": [
    "submission[\"age\"]=[0 for _ in range(1000000)]"
   ]
  },
  {
   "cell_type": "code",
   "execution_count": 27,
   "metadata": {},
   "outputs": [
    {
     "data": {
      "text/html": [
       "<div>\n",
       "<style scoped>\n",
       "    .dataframe tbody tr th:only-of-type {\n",
       "        vertical-align: middle;\n",
       "    }\n",
       "\n",
       "    .dataframe tbody tr th {\n",
       "        vertical-align: top;\n",
       "    }\n",
       "\n",
       "    .dataframe thead th {\n",
       "        text-align: right;\n",
       "    }\n",
       "</style>\n",
       "<table border=\"1\" class=\"dataframe\">\n",
       "  <thead>\n",
       "    <tr style=\"text-align: right;\">\n",
       "      <th></th>\n",
       "      <th>gender</th>\n",
       "      <th>user_id</th>\n",
       "      <th>age</th>\n",
       "    </tr>\n",
       "  </thead>\n",
       "  <tbody>\n",
       "    <tr>\n",
       "      <th>count</th>\n",
       "      <td>1000000.0</td>\n",
       "      <td>1.000000e+06</td>\n",
       "      <td>1000000.0</td>\n",
       "    </tr>\n",
       "    <tr>\n",
       "      <th>mean</th>\n",
       "      <td>0.0</td>\n",
       "      <td>3.500000e+06</td>\n",
       "      <td>0.0</td>\n",
       "    </tr>\n",
       "    <tr>\n",
       "      <th>std</th>\n",
       "      <td>0.0</td>\n",
       "      <td>2.886753e+05</td>\n",
       "      <td>0.0</td>\n",
       "    </tr>\n",
       "    <tr>\n",
       "      <th>min</th>\n",
       "      <td>0.0</td>\n",
       "      <td>3.000001e+06</td>\n",
       "      <td>0.0</td>\n",
       "    </tr>\n",
       "    <tr>\n",
       "      <th>25%</th>\n",
       "      <td>0.0</td>\n",
       "      <td>3.250001e+06</td>\n",
       "      <td>0.0</td>\n",
       "    </tr>\n",
       "    <tr>\n",
       "      <th>50%</th>\n",
       "      <td>0.0</td>\n",
       "      <td>3.500000e+06</td>\n",
       "      <td>0.0</td>\n",
       "    </tr>\n",
       "    <tr>\n",
       "      <th>75%</th>\n",
       "      <td>0.0</td>\n",
       "      <td>3.750000e+06</td>\n",
       "      <td>0.0</td>\n",
       "    </tr>\n",
       "    <tr>\n",
       "      <th>max</th>\n",
       "      <td>0.0</td>\n",
       "      <td>4.000000e+06</td>\n",
       "      <td>0.0</td>\n",
       "    </tr>\n",
       "  </tbody>\n",
       "</table>\n",
       "</div>"
      ],
      "text/plain": [
       "          gender       user_id        age\n",
       "count  1000000.0  1.000000e+06  1000000.0\n",
       "mean         0.0  3.500000e+06        0.0\n",
       "std          0.0  2.886753e+05        0.0\n",
       "min          0.0  3.000001e+06        0.0\n",
       "25%          0.0  3.250001e+06        0.0\n",
       "50%          0.0  3.500000e+06        0.0\n",
       "75%          0.0  3.750000e+06        0.0\n",
       "max          0.0  4.000000e+06        0.0"
      ]
     },
     "execution_count": 27,
     "metadata": {},
     "output_type": "execute_result"
    }
   ],
   "source": [
    "submission.describe()"
   ]
  },
  {
   "cell_type": "code",
   "execution_count": 28,
   "metadata": {},
   "outputs": [],
   "source": [
    "submission.to_csv(\"submission.csv\",index=False)"
   ]
  },
  {
   "cell_type": "code",
   "execution_count": 1,
   "metadata": {},
   "outputs": [
    {
     "name": "stdout",
     "output_type": "stream",
     "text": [
      "start training\n",
      "training completed!\n"
     ]
    }
   ],
   "source": [
    "%reset -f\n",
    "# !pip install lightgbm\n",
    "import lightgbm as lgb\n",
    "train_data = lgb.Dataset('gender.bin')\n",
    "lgb_params = {'num_leaves': 2**5-1,\n",
    "              'min_data_in_leaf': 25, \n",
    "              'objective':'binary',\n",
    "              'max_depth': -1,\n",
    "              'learning_rate': 0.1,\n",
    "              'boosting': 'gbdt',\n",
    "              'feature_fraction': 0.6,\n",
    "              'bagging_fraction': 0.9,\n",
    "              'bagging_seed': 11,\n",
    "              'metric': 'auc',\n",
    "              'seed':1024,\n",
    "              'nthread':12,\n",
    "             }\n",
    "print(\"start training\")\n",
    "model = lgb.train(lgb_params, train_data,num_boost_round=120)\n",
    "model.save_model(\"gender_model.txt\")\n",
    "print(\"training completed!\")"
   ]
  },
  {
   "cell_type": "code",
   "execution_count": 25,
   "metadata": {},
   "outputs": [
    {
     "name": "stdout",
     "output_type": "stream",
     "text": [
      "start predicting\n"
     ]
    },
    {
     "data": {
      "text/plain": [
       "array([0, 0, 0, ..., 0, 0, 0])"
      ]
     },
     "metadata": {},
     "output_type": "display_data"
    },
    {
     "data": {
      "text/html": [
       "<div>\n",
       "<style scoped>\n",
       "    .dataframe tbody tr th:only-of-type {\n",
       "        vertical-align: middle;\n",
       "    }\n",
       "\n",
       "    .dataframe tbody tr th {\n",
       "        vertical-align: top;\n",
       "    }\n",
       "\n",
       "    .dataframe thead th {\n",
       "        text-align: right;\n",
       "    }\n",
       "</style>\n",
       "<table border=\"1\" class=\"dataframe\">\n",
       "  <thead>\n",
       "    <tr style=\"text-align: right;\">\n",
       "      <th></th>\n",
       "      <th>user_id</th>\n",
       "      <th>predicted_gender</th>\n",
       "    </tr>\n",
       "  </thead>\n",
       "  <tbody>\n",
       "    <tr>\n",
       "      <th>0</th>\n",
       "      <td>3000001</td>\n",
       "      <td>0</td>\n",
       "    </tr>\n",
       "    <tr>\n",
       "      <th>1</th>\n",
       "      <td>3000002</td>\n",
       "      <td>0</td>\n",
       "    </tr>\n",
       "    <tr>\n",
       "      <th>2</th>\n",
       "      <td>3000003</td>\n",
       "      <td>0</td>\n",
       "    </tr>\n",
       "    <tr>\n",
       "      <th>3</th>\n",
       "      <td>3000004</td>\n",
       "      <td>0</td>\n",
       "    </tr>\n",
       "    <tr>\n",
       "      <th>4</th>\n",
       "      <td>3000005</td>\n",
       "      <td>0</td>\n",
       "    </tr>\n",
       "    <tr>\n",
       "      <th>...</th>\n",
       "      <td>...</td>\n",
       "      <td>...</td>\n",
       "    </tr>\n",
       "    <tr>\n",
       "      <th>999995</th>\n",
       "      <td>3999996</td>\n",
       "      <td>0</td>\n",
       "    </tr>\n",
       "    <tr>\n",
       "      <th>999996</th>\n",
       "      <td>3999997</td>\n",
       "      <td>0</td>\n",
       "    </tr>\n",
       "    <tr>\n",
       "      <th>999997</th>\n",
       "      <td>3999998</td>\n",
       "      <td>0</td>\n",
       "    </tr>\n",
       "    <tr>\n",
       "      <th>999998</th>\n",
       "      <td>3999999</td>\n",
       "      <td>0</td>\n",
       "    </tr>\n",
       "    <tr>\n",
       "      <th>999999</th>\n",
       "      <td>4000000</td>\n",
       "      <td>0</td>\n",
       "    </tr>\n",
       "  </tbody>\n",
       "</table>\n",
       "<p>1000000 rows × 2 columns</p>\n",
       "</div>"
      ],
      "text/plain": [
       "        user_id  predicted_gender\n",
       "0       3000001                 0\n",
       "1       3000002                 0\n",
       "2       3000003                 0\n",
       "3       3000004                 0\n",
       "4       3000005                 0\n",
       "...         ...               ...\n",
       "999995  3999996                 0\n",
       "999996  3999997                 0\n",
       "999997  3999998                 0\n",
       "999998  3999999                 0\n",
       "999999  4000000                 0\n",
       "\n",
       "[1000000 rows x 2 columns]"
      ]
     },
     "metadata": {},
     "output_type": "display_data"
    }
   ],
   "source": [
    "import lightgbm as lgb\n",
    "from scipy import sparse\n",
    "\n",
    "X_pred=creative_id_matrix\n",
    "zero_matrix=sparse.csc_matrix((1000000,2533238-2497542))\n",
    "X_pred=sparse.hstack([X_pred,zero_matrix],dtype=float).tocsr()\n",
    "print(\"start predicting\")\n",
    "model=lgb.Booster(model_file='gender_model.txt')\n",
    "y_pred=model.predict(X_pred)\n",
    "y_pred=(y_pred>0.5)*1\n",
    "display(y_pred)\n",
    "submission=pd.DataFrame([i for i in range(3000001,4000001)],columns=[\"user_id\"])\n",
    "submission[\"predicted_gender\"]=y_pred\n",
    "display(submission)"
   ]
  },
  {
   "cell_type": "code",
   "execution_count": 30,
   "metadata": {},
   "outputs": [],
   "source": [
    "submission[\"predicted_age\"]=[1 for _ in range(int(1e6))]"
   ]
  },
  {
   "cell_type": "code",
   "execution_count": 37,
   "metadata": {},
   "outputs": [
    {
     "name": "stdout",
     "output_type": "stream",
     "text": [
      "<class 'pandas.core.frame.DataFrame'>\n",
      "RangeIndex: 1000000 entries, 0 to 999999\n",
      "Data columns (total 3 columns):\n",
      " #   Column            Non-Null Count    Dtype\n",
      "---  ------            --------------    -----\n",
      " 0   user_id           1000000 non-null  int64\n",
      " 1   predicted_gender  1000000 non-null  int64\n",
      " 2   predicted_age     1000000 non-null  int64\n",
      "dtypes: int64(3)\n",
      "memory usage: 22.9 MB\n"
     ]
    }
   ],
   "source": [
    "submission[\"predicted_gender\"]+=1"
   ]
  },
  {
   "cell_type": "code",
   "execution_count": 38,
   "metadata": {},
   "outputs": [],
   "source": [
    "submission.to_csv(\"submission.csv\",index=False)"
   ]
  },
  {
   "cell_type": "code",
   "execution_count": null,
   "metadata": {},
   "outputs": [],
   "source": []
  }
 ],
 "metadata": {
  "kernelspec": {
   "display_name": "conda_tensorflow2_py3",
   "language": "python",
   "name": "conda_tensorflow2_py3"
  },
  "language_info": {
   "codemirror_mode": {
    "name": "ipython",
    "version": 3
   },
   "file_extension": ".py",
   "mimetype": "text/x-python",
   "name": "python",
   "nbconvert_exporter": "python",
   "pygments_lexer": "ipython3",
   "version": "3.6.5"
  }
 },
 "nbformat": 4,
 "nbformat_minor": 4
}
