{
 "cells": [
  {
   "cell_type": "code",
   "execution_count": 1,
   "metadata": {},
   "outputs": [],
   "source": [
    "# tf-idf for creative_id and advertiser_id\n",
    "import pandas as pd\n",
    "from sklearn.feature_extraction.text import TfidfVectorizer\n",
    "from scipy import sparse\n",
    "\n",
    "train_merged=pd.read_csv('train_merged.csv')\n",
    "v = TfidfVectorizer(max_df=30,lowercase=False,tokenizer=lambda x:x)\n",
    "\n",
    "creative_id=train_merged.groupby(\"user_id\")[\"creative_id\"].apply(list)\n",
    "creative_id = v.fit_transform(creative_id)\n",
    "advertiser_id=train_merged.groupby(\"user_id\")[\"advertiser_id\"].apply(list)\n",
    "advertiser_id = v.fit_transform(advertiser_id)\n",
    "cr_ad=sparse.hstack((creative_id,advertiser_id),dtype=float)\n",
    "display(cr_ad)\n",
    "sparse.save_npz('cr_ad.npz', cr_ad)"
   ]
  },
  {
   "cell_type": "code",
   "execution_count": 1,
   "metadata": {},
   "outputs": [
    {
     "name": "stdout",
     "output_type": "stream",
     "text": [
      "Looking in indexes: http://mirrors.tencentyun.com/pypi/simple\n",
      "Requirement already satisfied: lightgbm in /opt/conda/envs/tensorflow2_py3/lib/python3.6/site-packages (2.3.1)\n",
      "Requirement already satisfied: scikit-learn in /opt/conda/envs/tensorflow2_py3/lib/python3.6/site-packages (from lightgbm) (0.22.1)\n",
      "Requirement already satisfied: numpy in /opt/conda/envs/tensorflow2_py3/lib/python3.6/site-packages (from lightgbm) (1.18.1)\n",
      "Requirement already satisfied: scipy in /opt/conda/envs/tensorflow2_py3/lib/python3.6/site-packages (from lightgbm) (1.4.1)\n",
      "Requirement already satisfied: joblib>=0.11 in /opt/conda/envs/tensorflow2_py3/lib/python3.6/site-packages (from scikit-learn->lightgbm) (0.14.1)\n"
     ]
    },
    {
     "data": {
      "text/plain": [
       "<900000x2451045 sparse matrix of type '<class 'numpy.float64'>'\n",
       "\twith 10312696 stored elements in COOrdinate format>"
      ]
     },
     "metadata": {},
     "output_type": "display_data"
    },
    {
     "data": {
      "text/plain": [
       "0         0\n",
       "1         0\n",
       "2         1\n",
       "3         0\n",
       "4         0\n",
       "         ..\n",
       "899995    0\n",
       "899996    1\n",
       "899997    1\n",
       "899998    0\n",
       "899999    1\n",
       "Name: gender, Length: 900000, dtype: int64"
      ]
     },
     "metadata": {},
     "output_type": "display_data"
    },
    {
     "data": {
      "text/plain": [
       "<lightgbm.basic.Dataset at 0x7f1da2a39fd0>"
      ]
     },
     "execution_count": 1,
     "metadata": {},
     "output_type": "execute_result"
    }
   ],
   "source": [
    "# predict gender\n",
    "%reset -f\n",
    "# !pip install lightgbm\n",
    "import lightgbm as lgb\n",
    "import pandas as pd\n",
    "from scipy import sparse\n",
    "\n",
    "user_info=pd.read_csv('user_info.csv')\n",
    "creative_matrix=sparse.load_npz('cr_ad.npz')\n",
    "X_train=creative_matrix\n",
    "y_train=user_info[\"gender\"]\n",
    "display(X_train,y_train)\n",
    "train_data = lgb.Dataset(X_train,y_train)\n",
    "train_data.save_binary('gender.bin')"
   ]
  },
  {
   "cell_type": "code",
   "execution_count": null,
   "metadata": {},
   "outputs": [
    {
     "name": "stdout",
     "output_type": "stream",
     "text": [
      "start cv\n"
     ]
    }
   ],
   "source": [
    "%reset -f\n",
    "# !pip install lightgbm\n",
    "import lightgbm as lgb\n",
    "import pandas as pd\n",
    "\n",
    "train_data = lgb.Dataset('gender.bin')\n",
    "lgb_params = {'num_leaves': 2**6-1,\n",
    "              'min_data_in_leaf': 25, \n",
    "              'objective':'binary',\n",
    "              'max_depth': -1,\n",
    "              'learning_rate': 0.1,\n",
    "              'boosting': 'gbdt',\n",
    "              'feature_fraction': 0.6,\n",
    "              'bagging_fraction': 0.9,\n",
    "              'bagging_seed': 11,\n",
    "              'metric': 'auc',\n",
    "              'seed':1024,\n",
    "              'nthread':12,\n",
    "             }\n",
    "print(\"start cv\")\n",
    "cv_results = lgb.cv(\n",
    "    lgb_params, train_data, num_boost_round=1000, nfold=5, shuffle=True,\n",
    "    verbose_eval=1, show_stdv=True)"
   ]
  },
  {
   "cell_type": "markdown",
   "metadata": {},
   "source": [
    "# using test data to train"
   ]
  },
  {
   "cell_type": "code",
   "execution_count": null,
   "metadata": {},
   "outputs": [],
   "source": [
    "# predict gender\n",
    "# tf-idf for creative_id\n",
    "import pandas as pd\n",
    "from sklearn.feature_extraction.text import TfidfVectorizer\n",
    "from scipy import sparse\n",
    "\n",
    "predict_merged=pd.read_csv('predict_merged.csv')\n",
    "v = TfidfVectorizer(max_df=30,lowercase=False,tokenizer=lambda x:x)\n",
    "\n",
    "creative_id=predict_merged.groupby(\"user_id\")[\"creative_id\"].apply(list)\n",
    "creative_id = v.fit_transform(creative_id)\n",
    "advertiser_id=predict_merged.groupby(\"user_id\")[\"advertiser_id\"].apply(list)\n",
    "advertiser_id = v.fit_transform(advertiser_id)\n",
    "pred_cr_ad=sparse.hstack((creative_id,advertiser_id),dtype=float)\n",
    "display(pred_cr_ad)\n",
    "sparse.save_npz('pred_cr_ad.npz', pred_cr_ad)"
   ]
  },
  {
   "cell_type": "code",
   "execution_count": null,
   "metadata": {},
   "outputs": [],
   "source": [
    "# predict gender\n",
    "%reset -f\n",
    "# !pip install lightgbm\n",
    "import lightgbm as lgb\n",
    "import pandas as pd\n",
    "from scipy import sparse\n",
    "from sklearn.model_selection import KFold\n",
    "\n",
    "X_train=sparse.load_npz('cr_ad.npz')\n",
    "y_train=user_info[\"gender\"]\n",
    "X_test=sparse.load_npz('pred_cr_ad.npz')\n",
    "\n",
    "folds = KFold(n_splits=5, shuffle=False)\n",
    "\n",
    "for fold_, (trn_idx, val_idx) in enumerate(folds.split(X_train, y_train)):\n",
    "    print(\"fold n°{}\".format(fold_+1))\n",
    "    trn_data = lgb.Dataset(X_train[trn_idx], y_train[trn_idx])\n",
    "    val_data = lgb.Dataset(X_train[val_idx], y_train[val_idx])\n",
    " \n",
    "    model = lgb.train(param, \n",
    "                    trn_data, \n",
    "                    num_round=200, \n",
    "                    valid_sets = [trn_data, val_data], \n",
    "                    verbose_eval = 10, \n",
    "                    early_stopping_rounds = 100)\n",
    "    predictions += clf.predict(X_test, num_iteration=model.best_iteration) / folds.n_splits\n",
    "    display(predictions)\n",
    "\n",
    "display(predictions)"
   ]
  },
  {
   "cell_type": "code",
   "execution_count": 1,
   "metadata": {},
   "outputs": [
    {
     "name": "stdout",
     "output_type": "stream",
     "text": [
      "start training\n",
      "training completed!\n"
     ]
    }
   ],
   "source": [
    "%reset -f\n",
    "# !pip install lightgbm\n",
    "import lightgbm as lgb\n",
    "train_data = lgb.Dataset('gender.bin')\n",
    "lgb_params = {'num_leaves': 2**5-1,\n",
    "              'min_data_in_leaf': 25, \n",
    "              'objective':'binary',\n",
    "              'max_depth': -1,\n",
    "              'learning_rate': 0.1,\n",
    "              'boosting': 'gbdt',\n",
    "              'feature_fraction': 0.6,\n",
    "              'bagging_fraction': 0.9,\n",
    "              'bagging_seed': 11,\n",
    "              'metric': 'auc',\n",
    "              'seed':1024,\n",
    "              'nthread':12,\n",
    "             }\n",
    "print(\"start training\")\n",
    "model = lgb.train(lgb_params, train_data,num_boost_round=120)\n",
    "model.save_model(\"gender_model.txt\")\n",
    "print(\"training completed!\")"
   ]
  },
  {
   "cell_type": "code",
   "execution_count": 25,
   "metadata": {},
   "outputs": [
    {
     "name": "stdout",
     "output_type": "stream",
     "text": [
      "start predicting\n"
     ]
    },
    {
     "data": {
      "text/plain": [
       "array([0, 0, 0, ..., 0, 0, 0])"
      ]
     },
     "metadata": {},
     "output_type": "display_data"
    },
    {
     "data": {
      "text/html": [
       "<div>\n",
       "<style scoped>\n",
       "    .dataframe tbody tr th:only-of-type {\n",
       "        vertical-align: middle;\n",
       "    }\n",
       "\n",
       "    .dataframe tbody tr th {\n",
       "        vertical-align: top;\n",
       "    }\n",
       "\n",
       "    .dataframe thead th {\n",
       "        text-align: right;\n",
       "    }\n",
       "</style>\n",
       "<table border=\"1\" class=\"dataframe\">\n",
       "  <thead>\n",
       "    <tr style=\"text-align: right;\">\n",
       "      <th></th>\n",
       "      <th>user_id</th>\n",
       "      <th>predicted_gender</th>\n",
       "    </tr>\n",
       "  </thead>\n",
       "  <tbody>\n",
       "    <tr>\n",
       "      <th>0</th>\n",
       "      <td>3000001</td>\n",
       "      <td>0</td>\n",
       "    </tr>\n",
       "    <tr>\n",
       "      <th>1</th>\n",
       "      <td>3000002</td>\n",
       "      <td>0</td>\n",
       "    </tr>\n",
       "    <tr>\n",
       "      <th>2</th>\n",
       "      <td>3000003</td>\n",
       "      <td>0</td>\n",
       "    </tr>\n",
       "    <tr>\n",
       "      <th>3</th>\n",
       "      <td>3000004</td>\n",
       "      <td>0</td>\n",
       "    </tr>\n",
       "    <tr>\n",
       "      <th>4</th>\n",
       "      <td>3000005</td>\n",
       "      <td>0</td>\n",
       "    </tr>\n",
       "    <tr>\n",
       "      <th>...</th>\n",
       "      <td>...</td>\n",
       "      <td>...</td>\n",
       "    </tr>\n",
       "    <tr>\n",
       "      <th>999995</th>\n",
       "      <td>3999996</td>\n",
       "      <td>0</td>\n",
       "    </tr>\n",
       "    <tr>\n",
       "      <th>999996</th>\n",
       "      <td>3999997</td>\n",
       "      <td>0</td>\n",
       "    </tr>\n",
       "    <tr>\n",
       "      <th>999997</th>\n",
       "      <td>3999998</td>\n",
       "      <td>0</td>\n",
       "    </tr>\n",
       "    <tr>\n",
       "      <th>999998</th>\n",
       "      <td>3999999</td>\n",
       "      <td>0</td>\n",
       "    </tr>\n",
       "    <tr>\n",
       "      <th>999999</th>\n",
       "      <td>4000000</td>\n",
       "      <td>0</td>\n",
       "    </tr>\n",
       "  </tbody>\n",
       "</table>\n",
       "<p>1000000 rows × 2 columns</p>\n",
       "</div>"
      ],
      "text/plain": [
       "        user_id  predicted_gender\n",
       "0       3000001                 0\n",
       "1       3000002                 0\n",
       "2       3000003                 0\n",
       "3       3000004                 0\n",
       "4       3000005                 0\n",
       "...         ...               ...\n",
       "999995  3999996                 0\n",
       "999996  3999997                 0\n",
       "999997  3999998                 0\n",
       "999998  3999999                 0\n",
       "999999  4000000                 0\n",
       "\n",
       "[1000000 rows x 2 columns]"
      ]
     },
     "metadata": {},
     "output_type": "display_data"
    }
   ],
   "source": [
    "import lightgbm as lgb\n",
    "from scipy import sparse\n",
    "\n",
    "X_pred=creative_id_matrix\n",
    "zero_matrix=sparse.csc_matrix((1000000,2533238-2497542))\n",
    "X_pred=sparse.hstack([X_pred,zero_matrix],dtype=float).tocsr()\n",
    "print(\"start predicting\")\n",
    "model=lgb.Booster(model_file='gender_model.txt')\n",
    "y_pred=model.predict(X_pred)\n",
    "y_pred=(y_pred>0.5)*1\n",
    "display(y_pred)\n",
    "submission=pd.DataFrame([i for i in range(3000001,4000001)],columns=[\"user_id\"])\n",
    "submission[\"predicted_gender\"]=y_pred\n",
    "display(submission)"
   ]
  },
  {
   "cell_type": "code",
   "execution_count": 30,
   "metadata": {},
   "outputs": [],
   "source": [
    "submission[\"predicted_age\"]=[1 for _ in range(int(1e6))]"
   ]
  },
  {
   "cell_type": "code",
   "execution_count": 37,
   "metadata": {},
   "outputs": [
    {
     "name": "stdout",
     "output_type": "stream",
     "text": [
      "<class 'pandas.core.frame.DataFrame'>\n",
      "RangeIndex: 1000000 entries, 0 to 999999\n",
      "Data columns (total 3 columns):\n",
      " #   Column            Non-Null Count    Dtype\n",
      "---  ------            --------------    -----\n",
      " 0   user_id           1000000 non-null  int64\n",
      " 1   predicted_gender  1000000 non-null  int64\n",
      " 2   predicted_age     1000000 non-null  int64\n",
      "dtypes: int64(3)\n",
      "memory usage: 22.9 MB\n"
     ]
    }
   ],
   "source": [
    "submission[\"predicted_gender\"]+=1"
   ]
  },
  {
   "cell_type": "code",
   "execution_count": 38,
   "metadata": {},
   "outputs": [],
   "source": [
    "submission.to_csv(\"submission.csv\",index=False)"
   ]
  },
  {
   "cell_type": "code",
   "execution_count": null,
   "metadata": {},
   "outputs": [],
   "source": []
  }
 ],
 "metadata": {
  "kernelspec": {
   "display_name": "conda_tensorflow2_py3",
   "language": "python",
   "name": "conda_tensorflow2_py3"
  },
  "language_info": {
   "codemirror_mode": {
    "name": "ipython",
    "version": 3
   },
   "file_extension": ".py",
   "mimetype": "text/x-python",
   "name": "python",
   "nbconvert_exporter": "python",
   "pygments_lexer": "ipython3",
   "version": "3.6.5"
  }
 },
 "nbformat": 4,
 "nbformat_minor": 4
}
