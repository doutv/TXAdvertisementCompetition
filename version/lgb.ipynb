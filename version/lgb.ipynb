{
 "cells": [
  {
   "cell_type": "code",
   "execution_count": 1,
   "metadata": {},
   "outputs": [
    {
     "data": {
      "text/plain": [
       "<900000x2414321 sparse matrix of type '<class 'numpy.float64'>'\n",
       "\twith 9965541 stored elements in Compressed Sparse Row format>"
      ]
     },
     "metadata": {},
     "output_type": "display_data"
    }
   ],
   "source": [
    "# tf-idf for creative_id and advertiser_id\n",
    "import pandas as pd\n",
    "from sklearn.feature_extraction.text import TfidfVectorizer\n",
    "from scipy import sparse\n",
    "\n",
    "train_merged=pd.read_csv('train_merged.csv')\n",
    "v = TfidfVectorizer(max_df=50,lowercase=False,tokenizer=lambda x:x)\n",
    "\n",
    "creative_id=train_merged.groupby(\"user_id\")[\"creative_id\"].apply(list)\n",
    "creative_id_matrix = v.fit_transform(creative_id)\n",
    "display(creative_id_matrix)\n",
    "\n",
    "sparse.save_npz('cr.npz', creative_id_matrix)"
   ]
  },
  {
   "cell_type": "code",
   "execution_count": 3,
   "metadata": {
    "collapsed": true,
    "jupyter": {
     "outputs_hidden": true
    }
   },
   "outputs": [
    {
     "name": "stdout",
     "output_type": "stream",
     "text": [
      "Looking in indexes: http://mirrors.tencentyun.com/pypi/simple\n",
      "Collecting lightgbm\n",
      "  Downloading http://mirrors.tencentyun.com/pypi/packages/0b/9d/ddcb2f43aca194987f1a99e27edf41cf9bc39ea750c3371c2a62698c509a/lightgbm-2.3.1-py2.py3-none-manylinux1_x86_64.whl (1.2 MB)\n",
      "\u001b[K     |████████████████████████████████| 1.2 MB 759 kB/s eta 0:00:01     |██████████████████              | 696 kB 759 kB/s eta 0:00:01\n",
      "\u001b[?25hRequirement already satisfied: scipy in /opt/conda/envs/tensorflow2_py3/lib/python3.6/site-packages (from lightgbm) (1.4.1)\n",
      "Requirement already satisfied: numpy in /opt/conda/envs/tensorflow2_py3/lib/python3.6/site-packages (from lightgbm) (1.18.1)\n",
      "Requirement already satisfied: scikit-learn in /opt/conda/envs/tensorflow2_py3/lib/python3.6/site-packages (from lightgbm) (0.22.1)\n",
      "Requirement already satisfied: joblib>=0.11 in /opt/conda/envs/tensorflow2_py3/lib/python3.6/site-packages (from scikit-learn->lightgbm) (0.14.1)\n",
      "Installing collected packages: lightgbm\n",
      "Successfully installed lightgbm-2.3.1\n"
     ]
    },
    {
     "data": {
      "text/plain": [
       "<900000x2414321 sparse matrix of type '<class 'numpy.float64'>'\n",
       "\twith 9965541 stored elements in Compressed Sparse Row format>"
      ]
     },
     "metadata": {},
     "output_type": "display_data"
    },
    {
     "data": {
      "text/plain": [
       "0         0\n",
       "1         0\n",
       "2         1\n",
       "3         0\n",
       "4         0\n",
       "         ..\n",
       "899995    0\n",
       "899996    1\n",
       "899997    1\n",
       "899998    0\n",
       "899999    1\n",
       "Name: gender, Length: 900000, dtype: int64"
      ]
     },
     "metadata": {},
     "output_type": "display_data"
    },
    {
     "data": {
      "text/plain": [
       "<lightgbm.basic.Dataset at 0x7f3155a277b8>"
      ]
     },
     "execution_count": 3,
     "metadata": {},
     "output_type": "execute_result"
    }
   ],
   "source": [
    "# predict gender\n",
    "%reset -f\n",
    "# !pip install lightgbm\n",
    "import lightgbm as lgb\n",
    "import pandas as pd\n",
    "from scipy import sparse\n",
    "\n",
    "user_info=pd.read_csv('user_info.csv')\n",
    "creative_matrix=sparse.load_npz('cr.npz')\n",
    "X_train=creative_matrix\n",
    "y_train=user_info[\"gender\"]\n",
    "display(X_train,y_train)\n",
    "train_data = lgb.Dataset(X_train,y_train)\n",
    "train_data.save_binary('gender.bin')"
   ]
  },
  {
   "cell_type": "code",
   "execution_count": null,
   "metadata": {
    "collapsed": true,
    "jupyter": {
     "outputs_hidden": true
    }
   },
   "outputs": [
    {
     "name": "stdout",
     "output_type": "stream",
     "text": [
      "start cv\n",
      "[1]\tcv_agg's auc: 0.767025 + 0.000449946\n",
      "[2]\tcv_agg's auc: 0.826188 + 0.00121602\n",
      "[3]\tcv_agg's auc: 0.845422 + 0.000863808\n",
      "[4]\tcv_agg's auc: 0.851712 + 0.000605036\n",
      "[5]\tcv_agg's auc: 0.858422 + 0.00167923\n",
      "[6]\tcv_agg's auc: 0.866107 + 0.00223791\n",
      "[7]\tcv_agg's auc: 0.868168 + 0.00215166\n",
      "[8]\tcv_agg's auc: 0.869815 + 0.00173691\n",
      "[9]\tcv_agg's auc: 0.875981 + 0.00172246\n",
      "[10]\tcv_agg's auc: 0.879514 + 0.00162535\n",
      "[11]\tcv_agg's auc: 0.883363 + 0.00181844\n",
      "[12]\tcv_agg's auc: 0.885146 + 0.00141157\n",
      "[13]\tcv_agg's auc: 0.888497 + 0.0013869\n",
      "[14]\tcv_agg's auc: 0.890701 + 0.00106163\n",
      "[15]\tcv_agg's auc: 0.893231 + 0.000907936\n",
      "[16]\tcv_agg's auc: 0.894663 + 0.000914995\n",
      "[17]\tcv_agg's auc: 0.896867 + 0.00099255\n",
      "[18]\tcv_agg's auc: 0.898301 + 0.000900997\n",
      "[19]\tcv_agg's auc: 0.899725 + 0.000639843\n",
      "[20]\tcv_agg's auc: 0.901443 + 0.000951029\n",
      "[21]\tcv_agg's auc: 0.903209 + 0.000805491\n",
      "[22]\tcv_agg's auc: 0.904704 + 0.00076453\n",
      "[23]\tcv_agg's auc: 0.906559 + 0.000772696\n",
      "[24]\tcv_agg's auc: 0.907973 + 0.000716829\n",
      "[25]\tcv_agg's auc: 0.909308 + 0.000457797\n",
      "[26]\tcv_agg's auc: 0.910712 + 0.000642849\n",
      "[27]\tcv_agg's auc: 0.912111 + 0.000626815\n",
      "[28]\tcv_agg's auc: 0.913483 + 0.000607421\n",
      "[29]\tcv_agg's auc: 0.914752 + 0.000481864\n",
      "[30]\tcv_agg's auc: 0.915884 + 0.000480514\n",
      "[31]\tcv_agg's auc: 0.916948 + 0.000452216\n",
      "[32]\tcv_agg's auc: 0.918144 + 0.000421573\n",
      "[33]\tcv_agg's auc: 0.919295 + 0.000562704\n",
      "[34]\tcv_agg's auc: 0.920415 + 0.000544968\n",
      "[35]\tcv_agg's auc: 0.921299 + 0.000504763\n",
      "[36]\tcv_agg's auc: 0.92229 + 0.000538367\n",
      "[37]\tcv_agg's auc: 0.923182 + 0.000608157\n",
      "[38]\tcv_agg's auc: 0.923965 + 0.000601408\n",
      "[39]\tcv_agg's auc: 0.924754 + 0.000624061\n",
      "[40]\tcv_agg's auc: 0.925505 + 0.00060911\n",
      "[41]\tcv_agg's auc: 0.926347 + 0.000560239\n",
      "[42]\tcv_agg's auc: 0.927133 + 0.000570279\n",
      "[43]\tcv_agg's auc: 0.927813 + 0.000540981\n",
      "[44]\tcv_agg's auc: 0.928453 + 0.000536332\n",
      "[45]\tcv_agg's auc: 0.929041 + 0.000545101\n",
      "[46]\tcv_agg's auc: 0.929601 + 0.000456048\n",
      "[47]\tcv_agg's auc: 0.930151 + 0.000441367\n",
      "[48]\tcv_agg's auc: 0.930651 + 0.000365541\n",
      "[49]\tcv_agg's auc: 0.931257 + 0.000328497\n",
      "[50]\tcv_agg's auc: 0.931866 + 0.000336656\n",
      "[51]\tcv_agg's auc: 0.932403 + 0.000335198\n",
      "[52]\tcv_agg's auc: 0.932938 + 0.000334445\n",
      "[53]\tcv_agg's auc: 0.933414 + 0.00030456\n",
      "[54]\tcv_agg's auc: 0.933961 + 0.000285146\n",
      "[55]\tcv_agg's auc: 0.93442 + 0.000295166\n",
      "[56]\tcv_agg's auc: 0.934923 + 0.000275217\n",
      "[57]\tcv_agg's auc: 0.935376 + 0.000279849\n",
      "[58]\tcv_agg's auc: 0.935717 + 0.000276379\n",
      "[59]\tcv_agg's auc: 0.936133 + 0.000274938\n",
      "[60]\tcv_agg's auc: 0.936574 + 0.000257968\n",
      "[61]\tcv_agg's auc: 0.936973 + 0.000254252\n",
      "[62]\tcv_agg's auc: 0.937404 + 0.000264779\n",
      "[63]\tcv_agg's auc: 0.937816 + 0.000264081\n",
      "[64]\tcv_agg's auc: 0.938246 + 0.000246008\n",
      "[65]\tcv_agg's auc: 0.938591 + 0.000256666\n",
      "[66]\tcv_agg's auc: 0.938949 + 0.000248159\n",
      "[67]\tcv_agg's auc: 0.939236 + 0.000289883\n",
      "[68]\tcv_agg's auc: 0.939532 + 0.000292672\n",
      "[69]\tcv_agg's auc: 0.939908 + 0.000310584\n",
      "[70]\tcv_agg's auc: 0.940263 + 0.000271575\n",
      "[71]\tcv_agg's auc: 0.940586 + 0.000261754\n",
      "[72]\tcv_agg's auc: 0.940865 + 0.000227835\n",
      "[73]\tcv_agg's auc: 0.941151 + 0.00021909\n",
      "[74]\tcv_agg's auc: 0.941447 + 0.00023826\n",
      "[75]\tcv_agg's auc: 0.941758 + 0.000242383\n",
      "[76]\tcv_agg's auc: 0.942059 + 0.000263716\n",
      "[77]\tcv_agg's auc: 0.94237 + 0.000253512\n",
      "[78]\tcv_agg's auc: 0.94265 + 0.000228758\n",
      "[79]\tcv_agg's auc: 0.942931 + 0.000205103\n",
      "[80]\tcv_agg's auc: 0.943198 + 0.000221135\n",
      "[81]\tcv_agg's auc: 0.94345 + 0.000215892\n",
      "[82]\tcv_agg's auc: 0.943681 + 0.000216741\n",
      "[83]\tcv_agg's auc: 0.943897 + 0.000209541\n",
      "[84]\tcv_agg's auc: 0.9441 + 0.000203015\n",
      "[85]\tcv_agg's auc: 0.944313 + 0.000207545\n",
      "[86]\tcv_agg's auc: 0.944539 + 0.000218762\n",
      "[87]\tcv_agg's auc: 0.944746 + 0.000227361\n",
      "[88]\tcv_agg's auc: 0.94497 + 0.00023023\n",
      "[89]\tcv_agg's auc: 0.94519 + 0.000236372\n",
      "[90]\tcv_agg's auc: 0.945413 + 0.00026187\n",
      "[91]\tcv_agg's auc: 0.945609 + 0.000243154\n",
      "[92]\tcv_agg's auc: 0.945837 + 0.000256556\n",
      "[93]\tcv_agg's auc: 0.946042 + 0.000265955\n",
      "[94]\tcv_agg's auc: 0.946234 + 0.000271864\n",
      "[95]\tcv_agg's auc: 0.946444 + 0.000266143\n",
      "[96]\tcv_agg's auc: 0.946636 + 0.000271036\n",
      "[97]\tcv_agg's auc: 0.946815 + 0.000279541\n",
      "[98]\tcv_agg's auc: 0.947007 + 0.000280884\n",
      "[99]\tcv_agg's auc: 0.947178 + 0.00028526\n",
      "[100]\tcv_agg's auc: 0.947365 + 0.000295962\n",
      "[101]\tcv_agg's auc: 0.947525 + 0.00029255\n",
      "[102]\tcv_agg's auc: 0.947695 + 0.000290303\n",
      "[103]\tcv_agg's auc: 0.947855 + 0.000290805\n",
      "[104]\tcv_agg's auc: 0.948024 + 0.000278291\n",
      "[105]\tcv_agg's auc: 0.948189 + 0.000292395\n",
      "[106]\tcv_agg's auc: 0.948366 + 0.000303104\n",
      "[107]\tcv_agg's auc: 0.948526 + 0.000299166\n",
      "[108]\tcv_agg's auc: 0.948695 + 0.000306897\n",
      "[109]\tcv_agg's auc: 0.948858 + 0.000298329\n",
      "[110]\tcv_agg's auc: 0.949014 + 0.000279917\n",
      "[111]\tcv_agg's auc: 0.94915 + 0.000260598\n",
      "[112]\tcv_agg's auc: 0.949288 + 0.000279541\n",
      "[113]\tcv_agg's auc: 0.949434 + 0.000269137\n",
      "[114]\tcv_agg's auc: 0.949556 + 0.000267391\n",
      "[115]\tcv_agg's auc: 0.949707 + 0.000266558\n",
      "[116]\tcv_agg's auc: 0.94984 + 0.000274112\n",
      "[117]\tcv_agg's auc: 0.949952 + 0.000281485\n",
      "[118]\tcv_agg's auc: 0.950088 + 0.000285973\n",
      "[119]\tcv_agg's auc: 0.950218 + 0.000289283\n",
      "[120]\tcv_agg's auc: 0.950329 + 0.00029569\n",
      "[121]\tcv_agg's auc: 0.950475 + 0.000291\n",
      "[122]\tcv_agg's auc: 0.950606 + 0.000285586\n",
      "[123]\tcv_agg's auc: 0.950736 + 0.000285666\n",
      "[124]\tcv_agg's auc: 0.950876 + 0.000288887\n",
      "[125]\tcv_agg's auc: 0.950996 + 0.00027868\n",
      "[126]\tcv_agg's auc: 0.951111 + 0.000275239\n",
      "[127]\tcv_agg's auc: 0.951229 + 0.000279692\n",
      "[128]\tcv_agg's auc: 0.951344 + 0.000291906\n",
      "[129]\tcv_agg's auc: 0.951455 + 0.000291384\n",
      "[130]\tcv_agg's auc: 0.951581 + 0.000294066\n",
      "[131]\tcv_agg's auc: 0.9517 + 0.00028323\n",
      "[132]\tcv_agg's auc: 0.951815 + 0.000285153\n",
      "[133]\tcv_agg's auc: 0.951926 + 0.000284563\n",
      "[134]\tcv_agg's auc: 0.952049 + 0.000291525\n",
      "[135]\tcv_agg's auc: 0.952143 + 0.000303991\n",
      "[136]\tcv_agg's auc: 0.952255 + 0.000297096\n",
      "[137]\tcv_agg's auc: 0.952367 + 0.000294484\n",
      "[138]\tcv_agg's auc: 0.952473 + 0.000300842\n",
      "[139]\tcv_agg's auc: 0.952572 + 0.000292088\n",
      "[140]\tcv_agg's auc: 0.952675 + 0.000292631\n",
      "[141]\tcv_agg's auc: 0.952779 + 0.000293021\n",
      "[142]\tcv_agg's auc: 0.952872 + 0.000291999\n",
      "[143]\tcv_agg's auc: 0.952972 + 0.000291159\n",
      "[144]\tcv_agg's auc: 0.953061 + 0.000294416\n",
      "[145]\tcv_agg's auc: 0.953154 + 0.000291331\n",
      "[146]\tcv_agg's auc: 0.953244 + 0.000284684\n",
      "[147]\tcv_agg's auc: 0.953328 + 0.00028074\n",
      "[148]\tcv_agg's auc: 0.953418 + 0.000278113\n",
      "[149]\tcv_agg's auc: 0.953498 + 0.000286034\n",
      "[150]\tcv_agg's auc: 0.953596 + 0.000287849\n",
      "[151]\tcv_agg's auc: 0.953682 + 0.000290395\n",
      "[152]\tcv_agg's auc: 0.953758 + 0.00028189\n",
      "[153]\tcv_agg's auc: 0.953833 + 0.000277051\n"
     ]
    }
   ],
   "source": [
    "%reset -f\n",
    "# !pip install lightgbm\n",
    "import lightgbm as lgb\n",
    "import pandas as pd\n",
    "\n",
    "train_data = lgb.Dataset('gender.bin')\n",
    "lgb_params = {'num_leaves': 2**5-1,\n",
    "              'min_data_in_leaf': 25, \n",
    "              'objective':'binary',\n",
    "              'max_depth': -1,\n",
    "              'learning_rate': 0.1,\n",
    "              'boosting': 'gbdt',\n",
    "              'feature_fraction': 0.6,\n",
    "              'bagging_fraction': 0.9,\n",
    "              'bagging_seed': 11,\n",
    "              'metric': 'auc',\n",
    "              'seed':1024,\n",
    "              'nthread':12,\n",
    "             }\n",
    "print(\"start cv\")\n",
    "cv_results = lgb.cv(\n",
    "    lgb_params, train_data, num_boost_round=1000, nfold=5, shuffle=True,\n",
    "    verbose_eval=1, show_stdv=True)"
   ]
  },
  {
   "cell_type": "code",
   "execution_count": 3,
   "metadata": {
    "collapsed": true,
    "jupyter": {
     "outputs_hidden": true
    }
   },
   "outputs": [
    {
     "name": "stdout",
     "output_type": "stream",
     "text": [
      "start training\n"
     ]
    },
    {
     "ename": "KeyboardInterrupt",
     "evalue": "",
     "output_type": "error",
     "traceback": [
      "\u001b[0;31m---------------------------------------------------------------------------\u001b[0m",
      "\u001b[0;31mKeyboardInterrupt\u001b[0m                         Traceback (most recent call last)",
      "\u001b[0;32m<ipython-input-3-3fe212021b7e>\u001b[0m in \u001b[0;36m<module>\u001b[0;34m\u001b[0m\n\u001b[1;32m     16\u001b[0m              }\n\u001b[1;32m     17\u001b[0m \u001b[0mprint\u001b[0m\u001b[0;34m(\u001b[0m\u001b[0;34m\"start training\"\u001b[0m\u001b[0;34m)\u001b[0m\u001b[0;34m\u001b[0m\u001b[0m\n\u001b[0;32m---> 18\u001b[0;31m \u001b[0mmodel\u001b[0m \u001b[0;34m=\u001b[0m \u001b[0mlgb\u001b[0m\u001b[0;34m.\u001b[0m\u001b[0mtrain\u001b[0m\u001b[0;34m(\u001b[0m\u001b[0mlgb_params\u001b[0m\u001b[0;34m,\u001b[0m \u001b[0mtrain_data\u001b[0m\u001b[0;34m,\u001b[0m\u001b[0mnum_boost_round\u001b[0m\u001b[0;34m=\u001b[0m\u001b[0;36m120\u001b[0m\u001b[0;34m)\u001b[0m\u001b[0;34m\u001b[0m\u001b[0m\n\u001b[0m\u001b[1;32m     19\u001b[0m \u001b[0mmodel\u001b[0m\u001b[0;34m.\u001b[0m\u001b[0msave_model\u001b[0m\u001b[0;34m(\u001b[0m\u001b[0;34m\"gender_model.txt\"\u001b[0m\u001b[0;34m)\u001b[0m\u001b[0;34m\u001b[0m\u001b[0m\n\u001b[1;32m     20\u001b[0m \u001b[0mprint\u001b[0m\u001b[0;34m(\u001b[0m\u001b[0;34m\"training completed!\"\u001b[0m\u001b[0;34m)\u001b[0m\u001b[0;34m\u001b[0m\u001b[0m\n",
      "\u001b[0;32m/opt/conda/envs/tensorflow2_py3/lib/python3.6/site-packages/lightgbm/engine.py\u001b[0m in \u001b[0;36mtrain\u001b[0;34m(params, train_set, num_boost_round, valid_sets, valid_names, fobj, feval, init_model, feature_name, categorical_feature, early_stopping_rounds, evals_result, verbose_eval, learning_rates, keep_training_booster, callbacks)\u001b[0m\n\u001b[1;32m    247\u001b[0m                                     evaluation_result_list=None))\n\u001b[1;32m    248\u001b[0m \u001b[0;34m\u001b[0m\u001b[0m\n\u001b[0;32m--> 249\u001b[0;31m         \u001b[0mbooster\u001b[0m\u001b[0;34m.\u001b[0m\u001b[0mupdate\u001b[0m\u001b[0;34m(\u001b[0m\u001b[0mfobj\u001b[0m\u001b[0;34m=\u001b[0m\u001b[0mfobj\u001b[0m\u001b[0;34m)\u001b[0m\u001b[0;34m\u001b[0m\u001b[0m\n\u001b[0m\u001b[1;32m    250\u001b[0m \u001b[0;34m\u001b[0m\u001b[0m\n\u001b[1;32m    251\u001b[0m         \u001b[0mevaluation_result_list\u001b[0m \u001b[0;34m=\u001b[0m \u001b[0;34m[\u001b[0m\u001b[0;34m]\u001b[0m\u001b[0;34m\u001b[0m\u001b[0m\n",
      "\u001b[0;32m/opt/conda/envs/tensorflow2_py3/lib/python3.6/site-packages/lightgbm/basic.py\u001b[0m in \u001b[0;36mupdate\u001b[0;34m(self, train_set, fobj)\u001b[0m\n\u001b[1;32m   1974\u001b[0m             _safe_call(_LIB.LGBM_BoosterUpdateOneIter(\n\u001b[1;32m   1975\u001b[0m                 \u001b[0mself\u001b[0m\u001b[0;34m.\u001b[0m\u001b[0mhandle\u001b[0m\u001b[0;34m,\u001b[0m\u001b[0;34m\u001b[0m\u001b[0m\n\u001b[0;32m-> 1976\u001b[0;31m                 ctypes.byref(is_finished)))\n\u001b[0m\u001b[1;32m   1977\u001b[0m             \u001b[0mself\u001b[0m\u001b[0;34m.\u001b[0m\u001b[0m__is_predicted_cur_iter\u001b[0m \u001b[0;34m=\u001b[0m \u001b[0;34m[\u001b[0m\u001b[0;32mFalse\u001b[0m \u001b[0;32mfor\u001b[0m \u001b[0m_\u001b[0m \u001b[0;32min\u001b[0m \u001b[0mrange_\u001b[0m\u001b[0;34m(\u001b[0m\u001b[0mself\u001b[0m\u001b[0;34m.\u001b[0m\u001b[0m__num_dataset\u001b[0m\u001b[0;34m)\u001b[0m\u001b[0;34m]\u001b[0m\u001b[0;34m\u001b[0m\u001b[0m\n\u001b[1;32m   1978\u001b[0m             \u001b[0;32mreturn\u001b[0m \u001b[0mis_finished\u001b[0m\u001b[0;34m.\u001b[0m\u001b[0mvalue\u001b[0m \u001b[0;34m==\u001b[0m \u001b[0;36m1\u001b[0m\u001b[0;34m\u001b[0m\u001b[0m\n",
      "\u001b[0;31mKeyboardInterrupt\u001b[0m: "
     ]
    }
   ],
   "source": [
    "%reset -f\n",
    "import lightgbm as lgb\n",
    "train_data = lgb.Dataset('gender.bin')\n",
    "lgb_params = {'num_leaves': 2**5-1,\n",
    "              'min_data_in_leaf': 25, \n",
    "              'objective':'binary',\n",
    "              'max_depth': -1,\n",
    "              'learning_rate': 0.1,\n",
    "              'boosting': 'gbdt',\n",
    "              'feature_fraction': 0.6,\n",
    "              'bagging_fraction': 0.9,\n",
    "              'bagging_seed': 11,\n",
    "              'metric': 'auc',\n",
    "              'seed':1024,\n",
    "              'nthread':12,\n",
    "             }\n",
    "print(\"start training\")\n",
    "model = lgb.train(lgb_params, train_data,num_boost_round=120)\n",
    "model.save_model(\"gender_model.txt\")\n",
    "print(\"training completed!\")"
   ]
  },
  {
   "cell_type": "code",
   "execution_count": 3,
   "metadata": {
    "collapsed": true,
    "jupyter": {
     "outputs_hidden": true,
     "source_hidden": true
    }
   },
   "outputs": [
    {
     "name": "stdout",
     "output_type": "stream",
     "text": [
      "Looking in indexes: http://mirrors.tencentyun.com/pypi/simple\n",
      "Collecting lightgbm\n",
      "  Downloading http://mirrors.tencentyun.com/pypi/packages/0b/9d/ddcb2f43aca194987f1a99e27edf41cf9bc39ea750c3371c2a62698c509a/lightgbm-2.3.1-py2.py3-none-manylinux1_x86_64.whl (1.2 MB)\n",
      "\u001b[K     |████████████████████████████████| 1.2 MB 759 kB/s eta 0:00:01     |██████████████████              | 696 kB 759 kB/s eta 0:00:01\n",
      "\u001b[?25hRequirement already satisfied: scipy in /opt/conda/envs/tensorflow2_py3/lib/python3.6/site-packages (from lightgbm) (1.4.1)\n",
      "Requirement already satisfied: numpy in /opt/conda/envs/tensorflow2_py3/lib/python3.6/site-packages (from lightgbm) (1.18.1)\n",
      "Requirement already satisfied: scikit-learn in /opt/conda/envs/tensorflow2_py3/lib/python3.6/site-packages (from lightgbm) (0.22.1)\n",
      "Requirement already satisfied: joblib>=0.11 in /opt/conda/envs/tensorflow2_py3/lib/python3.6/site-packages (from scikit-learn->lightgbm) (0.14.1)\n",
      "Installing collected packages: lightgbm\n",
      "Successfully installed lightgbm-2.3.1\n"
     ]
    },
    {
     "data": {
      "text/plain": [
       "<900000x2414321 sparse matrix of type '<class 'numpy.float64'>'\n",
       "\twith 9965541 stored elements in Compressed Sparse Row format>"
      ]
     },
     "metadata": {},
     "output_type": "display_data"
    },
    {
     "data": {
      "text/plain": [
       "0         0\n",
       "1         0\n",
       "2         1\n",
       "3         0\n",
       "4         0\n",
       "         ..\n",
       "899995    0\n",
       "899996    1\n",
       "899997    1\n",
       "899998    0\n",
       "899999    1\n",
       "Name: gender, Length: 900000, dtype: int64"
      ]
     },
     "metadata": {},
     "output_type": "display_data"
    },
    {
     "data": {
      "text/plain": [
       "<lightgbm.basic.Dataset at 0x7f3155a277b8>"
      ]
     },
     "execution_count": 3,
     "metadata": {},
     "output_type": "execute_result"
    }
   ],
   "source": [
    "# predict gender\n",
    "import pandas as pd\n",
    "from sklearn.feature_extraction.text import TfidfVectorizer\n",
    "from scipy import sparse\n",
    "\n",
    "predict_merged=pd.read_csv('predict_merged.csv')\n",
    "v = TfidfVectorizer(max_df=50,lowercase=False,tokenizer=lambda x:x)\n",
    "\n",
    "creative_id=predict_merged.groupby(\"user_id\")[\"creative_id\"].apply(list)\n",
    "creative_id_matrix = v.fit_transform(creative_id)\n",
    "display(creative_id_matrix)\n",
    "del predict_merged,creative_id,v\n",
    "\n",
    "# sparse.save_npz('cr.npz', creative_id_matrix)\n",
    "X_pred=creative_id_matrix\n",
    "print(\"start predicting\")\n",
    "model=lgb.Booster(model_file='gender_model.txt')\n",
    "y_pred=model.predict(X_pred)\n",
    "y_pred=(y_pred>0.5)*1\n",
    "submission=pd.DataFrame(y_pred,columns=[\"gender\"])\n",
    "submission[\"user_id\"]=[i for i in range(user_info)]\n",
    "display(submission)"
   ]
  }
 ],
 "metadata": {
  "kernelspec": {
   "display_name": "conda_tensorflow2_py3",
   "language": "python",
   "name": "conda_tensorflow2_py3"
  },
  "language_info": {
   "codemirror_mode": {
    "name": "ipython",
    "version": 3
   },
   "file_extension": ".py",
   "mimetype": "text/x-python",
   "name": "python",
   "nbconvert_exporter": "python",
   "pygments_lexer": "ipython3",
   "version": "3.6.5"
  }
 },
 "nbformat": 4,
 "nbformat_minor": 4
}
