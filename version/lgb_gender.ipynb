{
 "cells": [
  {
   "cell_type": "code",
   "execution_count": 1,
   "metadata": {},
   "outputs": [
    {
     "output_type": "error",
     "ename": "ModuleNotFoundError",
     "evalue": "No module named 'sklearn'",
     "traceback": [
      "\u001b[1;31m---------------------------------------------------------------------------\u001b[0m",
      "\u001b[1;31mModuleNotFoundError\u001b[0m                       Traceback (most recent call last)",
      "\u001b[1;32m<ipython-input-1-ff63b48aa4a1>\u001b[0m in \u001b[0;36m<module>\u001b[1;34m\u001b[0m\n\u001b[0;32m      2\u001b[0m \u001b[1;31m# tf-idf for creative_id\u001b[0m\u001b[1;33m\u001b[0m\u001b[1;33m\u001b[0m\u001b[1;33m\u001b[0m\u001b[0m\n\u001b[0;32m      3\u001b[0m \u001b[1;32mimport\u001b[0m \u001b[0mpandas\u001b[0m \u001b[1;32mas\u001b[0m \u001b[0mpd\u001b[0m\u001b[1;33m\u001b[0m\u001b[1;33m\u001b[0m\u001b[0m\n\u001b[1;32m----> 4\u001b[1;33m \u001b[1;32mfrom\u001b[0m \u001b[0msklearn\u001b[0m\u001b[1;33m.\u001b[0m\u001b[0mfeature_extraction\u001b[0m\u001b[1;33m.\u001b[0m\u001b[0mtext\u001b[0m \u001b[1;32mimport\u001b[0m \u001b[0mTfidfVectorizer\u001b[0m\u001b[1;33m\u001b[0m\u001b[1;33m\u001b[0m\u001b[0m\n\u001b[0m\u001b[0;32m      5\u001b[0m \u001b[1;32mfrom\u001b[0m \u001b[0mscipy\u001b[0m \u001b[1;32mimport\u001b[0m \u001b[0msparse\u001b[0m\u001b[1;33m\u001b[0m\u001b[1;33m\u001b[0m\u001b[0m\n\u001b[0;32m      6\u001b[0m \u001b[1;33m\u001b[0m\u001b[0m\n",
      "\u001b[1;31mModuleNotFoundError\u001b[0m: No module named 'sklearn'"
     ]
    }
   ],
   "source": [
    "# predict gender\n",
    "# tf-idf for creative_id\n",
    "import pandas as pd\n",
    "from sklearn.feature_extraction.text import TfidfVectorizer\n",
    "from scipy import sparse\n",
    "\n",
    "train_merged=pd.read_csv('train_merged.csv')\n",
    "predict_merged=pd.read_csv('predict_merged.csv')\n",
    "total=pd.concat([train_merged,predict_merged],axis=0)\n",
    "display(total)\n",
    "v = TfidfVectorizer(lowercase=False,tokenizer=lambda x:x)\n",
    "\n",
    "creative_id=total.groupby(\"user_id\")[\"creative_id\"].apply(list)\n",
    "creative_id = v.fit_transform(creative_id)\n",
    "advertiser_id=total.groupby(\"user_id\")[\"advertiser_id\"].apply(list)\n",
    "advertiser_id = v.fit_transform(advertiser_id)\n",
    "cr_ad=sparse.hstack((creative_id,advertiser_id),dtype=float)\n",
    "display(cr_ad)\n",
    "sparse.save_npz('cr_ad.npz', cr_ad)"
   ]
  },
  {
   "cell_type": "code",
   "execution_count": null,
   "metadata": {},
   "outputs": [],
   "source": [
    "# predict gender\n",
    "%reset -f\n",
    "# !pip install lightgbm\n",
    "import lightgbm as lgb\n",
    "import pandas as pd\n",
    "from scipy import sparse\n",
    "from sklearn.model_selection import KFold\n",
    "import numpy as np\n",
    "\n",
    "user_info=pd.read_csv(\"user_info.csv\")\n",
    "total=sparse.load_npz('cr_ad.npz')\n",
    "X_train=total.tocsr()[:900000,:]\n",
    "y_train=user_info[\"gender\"]\n",
    "X_test=total.tocsr()[900000:,:]\n",
    "display(X_train,X_test)\n",
    "predictions = np.zeros(X_test.shape[0])\n",
    "\n",
    "folds = KFold(n_splits=5, shuffle=False)\n",
    "\n",
    "for fold_, (trn_idx, val_idx) in enumerate(folds.split(X_train, y_train)):\n",
    "    print(\"fold n°{}\".format(fold_+1))\n",
    "    display(trn_idx,val_idx)\n",
    "    trn_data_X_train=X_train.tocsr()[trn_idx,:]\n",
    "    val_data_X_train=X_train.tocsr()[val_idx,:]\n",
    "    display(trn_data_X_train,val_data_X_train)\n",
    "    trn_data = lgb.Dataset(trn_data_X_train, y_train.iloc[trn_idx])\n",
    "    val_data = lgb.Dataset(val_data_X_train, y_train.iloc[val_idx])\n",
    "    \n",
    "    lgb_params = {'num_leaves': 2**6-1,\n",
    "              'min_data_in_leaf': 25, \n",
    "              'objective':'binary',\n",
    "              'max_depth': -1,\n",
    "              'learning_rate': 0.1,\n",
    "              'boosting': 'gbdt',\n",
    "              'feature_fraction': 0.6,\n",
    "              'bagging_fraction': 0.9,\n",
    "              'bagging_seed': 11,\n",
    "              'metric': 'auc',\n",
    "              'seed':1024,\n",
    "              'nthread':12,\n",
    "             }\n",
    "    model = lgb.train(lgb_params, \n",
    "                    trn_data,\n",
    "                    num_boost_round=200, \n",
    "                    valid_sets = [trn_data, val_data], \n",
    "                    verbose_eval = 10, \n",
    "                    early_stopping_rounds = 100)\n",
    "    predictions += model.predict(X_test, num_iteration=model.best_iteration) / folds.n_splits\n",
    "    display(predictions)\n",
    "    display(np.where(predictions>0.5))\n",
    "\n",
    "display(predictions)"
   ]
  },
  {
   "cell_type": "code",
   "execution_count": null,
   "metadata": {},
   "outputs": [],
   "source": [
    "submission=pd.DataFrame([i for i in range(3000001,4000001)],columns=[\"user_id\"])\n",
    "submission[\"predicted_age\"]=[0 for _ in range(1000000)]\n",
    "submission[\"predicted_gender\"]=(predictions>0.5)*1\n",
    "submission[\"predicted_gender\"]+=1\n",
    "display(submission)\n",
    "submission.describe()\n",
    "submission.to_csv(\"submission.csv\",index=False)"
   ]
  }
 ],
 "metadata": {
  "language_info": {
   "codemirror_mode": {
    "name": "ipython",
    "version": 3
   },
   "file_extension": ".py",
   "mimetype": "text/x-python",
   "name": "python",
   "nbconvert_exporter": "python",
   "pygments_lexer": "ipython3",
   "version": "3.7.3-final"
  },
  "orig_nbformat": 2,
  "kernelspec": {
   "name": "python37364bitb6fd02937a794cd19e20b5ea21c4350f",
   "display_name": "Python 3.7.3 64-bit"
  }
 },
 "nbformat": 4,
 "nbformat_minor": 2
}